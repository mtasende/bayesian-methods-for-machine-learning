{
  "nbformat": 4,
  "nbformat_minor": 0,
  "metadata": {
    "colab": {
      "name": "bayesian_ml_week2_em_assignment.ipynb",
      "version": "0.3.2",
      "provenance": [],
      "collapsed_sections": []
    },
    "kernelspec": {
      "display_name": "Python 3",
      "language": "python",
      "name": "python3"
    }
  },
  "cells": [
    {
      "cell_type": "markdown",
      "metadata": {
        "id": "jlo4V6MRBEDQ",
        "colab_type": "text"
      },
      "source": [
        "# First things first\n",
        "Click **File -> Save a copy in Drive** and click **Open in new tab** in the pop-up window to save your progress in Google Drive."
      ]
    },
    {
      "cell_type": "markdown",
      "metadata": {
        "id": "WMlNHfVxBEDT",
        "colab_type": "text"
      },
      "source": [
        "# Expectation-maximization algorithm"
      ]
    },
    {
      "cell_type": "markdown",
      "metadata": {
        "id": "icS4MsxIBEDU",
        "colab_type": "text"
      },
      "source": [
        "In this assignment, we will derive and implement formulas for Gaussian Mixture Model — one of the most commonly used methods for performing soft clustering of the data. "
      ]
    },
    {
      "cell_type": "markdown",
      "metadata": {
        "id": "jequoJfSBEDV",
        "colab_type": "text"
      },
      "source": [
        "### Setup\n",
        "Loading auxiliary files and importing the necessary libraries."
      ]
    },
    {
      "cell_type": "code",
      "metadata": {
        "id": "ZqZo-y9UBEDX",
        "colab_type": "code",
        "outputId": "04225e81-0f22-4538-d0c4-afaa1598000a",
        "colab": {
          "base_uri": "https://localhost:8080/",
          "height": 260
        }
      },
      "source": [
        "try:\n",
        "    import google.colab\n",
        "    IN_COLAB = True\n",
        "except:\n",
        "    IN_COLAB = False\n",
        "if IN_COLAB:\n",
        "    print(\"Downloading Colab files\")\n",
        "    ! shred -u setup_google_colab.py\n",
        "    ! wget https://raw.githubusercontent.com/hse-aml/bayesian-methods-for-ml/master/setup_google_colab.py -O setup_google_colab.py\n",
        "    import setup_google_colab\n",
        "    setup_google_colab.load_data_week2()"
      ],
      "execution_count": 1,
      "outputs": [
        {
          "output_type": "stream",
          "text": [
            "Downloading Colab files\n",
            "--2019-06-25 21:33:12--  https://raw.githubusercontent.com/hse-aml/bayesian-methods-for-ml/master/setup_google_colab.py\n",
            "Resolving raw.githubusercontent.com (raw.githubusercontent.com)... 151.101.0.133, 151.101.64.133, 151.101.128.133, ...\n",
            "Connecting to raw.githubusercontent.com (raw.githubusercontent.com)|151.101.0.133|:443... connected.\n",
            "HTTP request sent, awaiting response... 200 OK\n",
            "Length: 1254 (1.2K) [text/plain]\n",
            "Saving to: ‘setup_google_colab.py’\n",
            "\n",
            "setup_google_colab. 100%[===================>]   1.22K  --.-KB/s    in 0s      \n",
            "\n",
            "2019-06-25 21:33:12 (195 MB/s) - ‘setup_google_colab.py’ saved [1254/1254]\n",
            "\n",
            "https://raw.githubusercontent.com/hse-aml/bayesian-methods-for-ml/master/week2/w2_grader.py w2_grader.py\n",
            "https://raw.githubusercontent.com/hse-aml/bayesian-methods-for-ml/master/week2/samples.npz samples.npz\n"
          ],
          "name": "stdout"
        }
      ]
    },
    {
      "cell_type": "code",
      "metadata": {
        "id": "urylZcbeBEDc",
        "colab_type": "code",
        "colab": {}
      },
      "source": [
        "import numpy as np\n",
        "from numpy.linalg import slogdet, det, solve\n",
        "import matplotlib.pyplot as plt\n",
        "import time\n",
        "from sklearn.datasets import load_digits\n",
        "from w2_grader import EMGrader\n",
        "%matplotlib inline"
      ],
      "execution_count": 0,
      "outputs": []
    },
    {
      "cell_type": "code",
      "metadata": {
        "id": "uwRWAzu0gJJt",
        "colab_type": "code",
        "colab": {}
      },
      "source": [
        "import matplotlib.cm as cm"
      ],
      "execution_count": 0,
      "outputs": []
    },
    {
      "cell_type": "markdown",
      "metadata": {
        "id": "tP8l9frZBEDf",
        "colab_type": "text"
      },
      "source": [
        "### Grading\n",
        "We will create a grader instance below and use it to collect your answers. Note that these outputs will be stored locally inside grader and will be uploaded to the platform only after running submitting function in the last part of this assignment. If you want to make a partial submission, you can run that cell anytime you want."
      ]
    },
    {
      "cell_type": "code",
      "metadata": {
        "id": "7Gvy3EOvBEDg",
        "colab_type": "code",
        "colab": {}
      },
      "source": [
        "grader = EMGrader()"
      ],
      "execution_count": 0,
      "outputs": []
    },
    {
      "cell_type": "markdown",
      "metadata": {
        "id": "dL3A2sntBEDj",
        "colab_type": "text"
      },
      "source": [
        "## Implementing EM for GMM"
      ]
    },
    {
      "cell_type": "markdown",
      "metadata": {
        "id": "0xPS_VdpBEDk",
        "colab_type": "text"
      },
      "source": [
        "For debugging, we will use samples from a Gaussian mixture model with unknown mean, variance, and priors. We also added initial values of parameters for grading purposes."
      ]
    },
    {
      "cell_type": "code",
      "metadata": {
        "id": "g9_aOn94BEDl",
        "colab_type": "code",
        "outputId": "ef5394bc-9e50-4ec3-ac8b-98eca1d47258",
        "colab": {
          "base_uri": "https://localhost:8080/",
          "height": 269
        }
      },
      "source": [
        "samples = np.load('samples.npz')\n",
        "X = samples['data']\n",
        "pi0 = samples['pi0']\n",
        "mu0 = samples['mu0']\n",
        "sigma0 = samples['sigma0']\n",
        "plt.scatter(X[:, 0], X[:, 1], c='grey', s=30)\n",
        "plt.axis('equal')\n",
        "plt.show()"
      ],
      "execution_count": 5,
      "outputs": [
        {
          "output_type": "display_data",
          "data": {
            "image/png": "[encoded data removed]",
            "text/plain": [
              "<Figure size 432x288 with 1 Axes>"
            ]
          },
          "metadata": {
            "tags": []
          }
        }
      ]
    },
    {
      "cell_type": "markdown",
      "metadata": {
        "id": "AmgeHTCfBEDp",
        "colab_type": "text"
      },
      "source": [
        "### Reminder"
      ]
    },
    {
      "cell_type": "markdown",
      "metadata": {
        "id": "RgAwWi1nBEDq",
        "colab_type": "text"
      },
      "source": [
        "Remember, that EM algorithm is a coordinate descent optimization of variational lower bound $\\mathcal{L}(\\theta, q) = \\int q(T) \\log\\frac{p(X, T|\\theta)}{q(T)}dT\\to \\max$.\n",
        "\n",
        "<b>E-step</b>:<br>\n",
        "$\\mathcal{L}(\\theta, q) \\to \\max\\limits_{q} \\Leftrightarrow \\mathcal{KL} [q(T) \\,\\|\\, p(T|X, \\theta)] \\to \\min \\limits_{q\\in Q} \\Rightarrow q(T) = p(T|X, \\theta)$<br>\n",
        "<b>M-step</b>:<br> \n",
        "$\\mathcal{L}(\\theta, q) \\to \\max\\limits_{\\theta} \\Leftrightarrow \\mathbb{E}_{q(T)}\\log p(X,T | \\theta) \\to \\max\\limits_{\\theta}$\n",
        "\n",
        "For GMM, $\\theta$ is a set of parameters that consists of mean vectors $\\mu_c$, covariance matrices $\\Sigma_c$ and priors $\\pi_c$ for each component.\n",
        "\n",
        "Latent variables $T$ are indices of components to which each data point is assigned, i.e. $t_i$  is the cluster index for object $x_i$.\n",
        "\n",
        "The joint distribution can be written as follows: $\\log p(T, X \\mid \\theta) =  \\sum\\limits_{i=1}^N \\log p(t_i, x_i \\mid \\theta) = \\sum\\limits_{i=1}^N \\sum\\limits_{c=1}^C q(t_i = c) \\log \\left (\\pi_c \\, f_{\\!\\mathcal{N}}(x_i \\mid \\mu_c, \\Sigma_c)\\right)$,\n",
        "where $f_{\\!\\mathcal{N}}(x \\mid \\mu_c, \\Sigma_c) = \\frac{1}{\\sqrt{(2\\pi)^n|\\boldsymbol\\Sigma_c|}}\n",
        "\\exp\\left(-\\frac{1}{2}({x}-{\\mu_c})^T{\\boldsymbol\\Sigma_c}^{-1}({x}-{\\mu_c})\n",
        "\\right)$ is the probability density function (pdf) of the normal distribution $\\mathcal{N}(x_i \\mid \\mu_c, \\Sigma_c)$."
      ]
    },
    {
      "cell_type": "markdown",
      "metadata": {
        "id": "ELmi1nAtBEDr",
        "colab_type": "text"
      },
      "source": [
        "### E-step\n",
        "In this step we need to estimate the posterior distribution over the latent variables with fixed values of parameters: $q_i(t_i) = p(t_i \\mid x_i, \\theta)$. We assume that $t_i$ equals to the cluster index of the true component of the $x_i$ object. To do so we need to compute $\\gamma_{ic} = p(t_i = c \\mid x_i, \\theta)$. Note that $\\sum\\limits_{c=1}^C\\gamma_{ic}=1$.\n"
      ]
    },
    {
      "cell_type": "markdown",
      "metadata": {
        "id": "53FR1RJ9BEDs",
        "colab_type": "text"
      },
      "source": [
        "<b>Important trick 1:</b> It is important to avoid numerical errors. At some point you will have to compute the formula of the following form: $\\frac{e^{y_i}}{\\sum_j e^{y_j}}$, which is called _softmax_. When you compute exponents of large numbers, some numbers may become infinity. You can avoid this by dividing numerator and denominator by $e^{\\max(y)}$: $\\frac{e^{y_i-\\max(y)}}{\\sum_j e^{y_j - \\max(y)}}$. After this transformation maximum value in the denominator will be equal to one. All other terms will contribute smaller values. So, to compute desired formula you first subtract maximum value from each component in vector $\\mathbf{y}$ and then compute everything else as before.\n",
        "\n",
        "<b>Important trick 2:</b> You will probably need to compute formula of the form $A^{-1}x$ at some point. You would normally inverse $A$ and then multiply it by $x$. A bit faster and more numerically accurate way to do this is to directly solve equation $Ay = x$ by using a special function. Its solution is $y=A^{-1}x$, but the equation $Ay = x$ can be solved by methods which do not explicitely invert the matrix. You can use ```np.linalg.solve``` for this.\n",
        "\n",
        "<b>Other usefull functions: </b> <a href=\"https://docs.scipy.org/doc/numpy/reference/generated/numpy.linalg.slogdet.html\">```slogdet```</a> and <a href=\"https://docs.scipy.org/doc/numpy/reference/generated/numpy.linalg.det.html#numpy.linalg.det\">```det```</a>"
      ]
    },
    {
      "cell_type": "markdown",
      "metadata": {
        "id": "KL87Q8-TBEDu",
        "colab_type": "text"
      },
      "source": [
        "<b>Task 1:</b> Implement E-step for GMM using template below."
      ]
    },
    {
      "cell_type": "code",
      "metadata": {
        "id": "wCUCaD28BEDw",
        "colab_type": "code",
        "colab": {}
      },
      "source": [
        "def E_step(X, pi, mu, sigma):\n",
        "    \"\"\"\n",
        "    Performs E-step on GMM model\n",
        "    Each input is numpy array:\n",
        "    X: (N x d), data points\n",
        "    pi: (C), mixture component weights \n",
        "    mu: (C x d), mixture component means\n",
        "    sigma: (C x d x d), mixture component covariance matrices\n",
        "    \n",
        "    Returns:\n",
        "    gamma: (N x C), probabilities of clusters for objects\n",
        "    \"\"\"\n",
        "    N = X.shape[0] # number of objects\n",
        "    C = pi.shape[0] # number of clusters\n",
        "    d = mu.shape[1] # dimension of each object\n",
        "    gamma = np.zeros((N, C)) # distribution q(T)\n",
        "\n",
        "    ### YOUR CODE HERE\n",
        "    exponents = list()\n",
        "    const = list()\n",
        "    for c in range(C):\n",
        "      # Calculate the exponent in the Gaussian\n",
        "      y = np.linalg.solve(sigma[c], (X - mu[c]).T)\n",
        "      exponents.append(np.sum((-1/2.0)* (X - mu[c]) * y.T, axis=1))\n",
        "      \n",
        "      # Calculate the multiplying constant\n",
        "      sign, logdet = np.linalg.slogdet(2 * np.pi * sigma[c])\n",
        "      const.append(np.exp(logdet))\n",
        "      \n",
        "    const = np.array(const)\n",
        "    const = 1 / np.sqrt(const)\n",
        "    exponents = np.vstack(exponents).T\n",
        "    exponents = exponents - np.max(exponents, axis=1).reshape(-1, 1)\n",
        "    num = (np.exp(exponents) * const) * pi\n",
        "    gamma = num / num.sum(axis=1).reshape(-1, 1)\n",
        "\n",
        "    return gamma"
      ],
      "execution_count": 0,
      "outputs": []
    },
    {
      "cell_type": "code",
      "metadata": {
        "id": "xlhktOlMBED1",
        "colab_type": "code",
        "outputId": "4de61fee-e029-4523-fe55-02797333fd44",
        "colab": {
          "base_uri": "https://localhost:8080/",
          "height": 34
        }
      },
      "source": [
        "gamma = E_step(X, pi0, mu0, sigma0)\n",
        "grader.submit_e_step(gamma)"
      ],
      "execution_count": 7,
      "outputs": [
        {
          "output_type": "stream",
          "text": [
            "Current answer for task Task 1 (E-step) is: 0.5337178741081267\n"
          ],
          "name": "stdout"
        }
      ]
    },
    {
      "cell_type": "markdown",
      "metadata": {
        "id": "fERrQWSCBED5",
        "colab_type": "text"
      },
      "source": [
        "### M-step\n",
        "\n",
        "In M-step we need to maximize $\\mathbb{E}_{q(T)}\\log p(X,T | \\theta)$ with respect to $\\theta$. In our model this means that we need to find optimal values of $\\pi$, $\\mu$, $\\Sigma$. To do so, you need to compute the derivatives and \n",
        "set them to zero. You should start by deriving formulas for $\\mu$ as it is the easiest part. Then move on to $\\Sigma$. Here it is crucial to optimize function w.r.t. to $\\Lambda = \\Sigma^{-1}$ and then inverse obtained result. Finaly, to compute $\\pi$, you will need <a href=\"https://www3.nd.edu/~jstiver/FIN360/Constrained%20Optimization.pdf\">Lagrange Multipliers technique</a> to satisfy constraint $\\sum\\limits_{i=1}^{n}\\pi_i = 1$.\n",
        "\n",
        "<br>\n",
        "<b>Important note:</b> You will need to compute derivatives of scalars with respect to matrices. To refresh this technique from previous courses, see <a href=\"https://en.wikipedia.org/wiki/Matrix_calculus\"> wiki article</a> about it . Main formulas of matrix derivatives can be found in <a href=\"http://www2.imm.dtu.dk/pubdb/views/edoc_download.php/3274/pdf/imm3274.pdf\">Chapter 2 of The Matrix Cookbook</a>. For example, there you may find that $\\frac{\\partial}{\\partial A}\\log |A| = A^{-T}$.\n"
      ]
    },
    {
      "cell_type": "markdown",
      "metadata": {
        "id": "A31OYSogBED6",
        "colab_type": "text"
      },
      "source": [
        "<b>Task 2:</b> Implement M-step for GMM using template below."
      ]
    },
    {
      "cell_type": "code",
      "metadata": {
        "id": "mhOr5I1bBED7",
        "colab_type": "code",
        "colab": {}
      },
      "source": [
        "def M_step(X, gamma):\n",
        "    \"\"\"\n",
        "    Performs M-step on GMM model\n",
        "    Each input is numpy array:\n",
        "    X: (N x d), data points\n",
        "    gamma: (N x C), distribution q(T)  \n",
        "    \n",
        "    Returns:\n",
        "    pi: (C)\n",
        "    mu: (C x d)\n",
        "    sigma: (C x d x d)\n",
        "    \"\"\"\n",
        "    N = X.shape[0] # number of objects\n",
        "    C = gamma.shape[1] # number of clusters\n",
        "    d = X.shape[1] # dimension of each object\n",
        "\n",
        "    ### YOUR CODE HERE\n",
        "    nc = gamma.sum(axis=0)\n",
        "    pi_new = nc / X.shape[0]\n",
        "    mu_new = ((X.T.dot(gamma)) / nc).T\n",
        "    sigma_new = np.zeros((C, d, d))\n",
        "    for c in range(C):\n",
        "      sigma_new[c, :, :] = ((X - mu_new[c]).T.dot((X - mu_new[c]) * gamma[:, c].reshape(-1, 1))) / nc[c]\n",
        "    \n",
        "\n",
        "    return pi_new, mu_new, sigma_new"
      ],
      "execution_count": 0,
      "outputs": []
    },
    {
      "cell_type": "code",
      "metadata": {
        "id": "6i5cv65SBED-",
        "colab_type": "code",
        "outputId": "0210b29e-9711-4368-fe09-e6b617f3ccf7",
        "colab": {
          "base_uri": "https://localhost:8080/",
          "height": 69
        }
      },
      "source": [
        "gamma = E_step(X, pi0, mu0, sigma0)\n",
        "pi, mu, sigma = M_step(X, gamma)\n",
        "grader.submit_m_step(pi, mu, sigma)"
      ],
      "execution_count": 9,
      "outputs": [
        {
          "output_type": "stream",
          "text": [
            "Current answer for task Task 2 (M-step: mu) is: 2.899391882050382\n",
            "Current answer for task Task 2 (M-step: sigma) is: 5.977105216897526\n",
            "Current answer for task Task 2 (M-step: pi) is: 0.5507624459218777\n"
          ],
          "name": "stdout"
        }
      ]
    },
    {
      "cell_type": "markdown",
      "metadata": {
        "id": "svyzjt7XBEEC",
        "colab_type": "text"
      },
      "source": [
        "### Loss function"
      ]
    },
    {
      "cell_type": "markdown",
      "metadata": {
        "id": "qexOXBLUBEED",
        "colab_type": "text"
      },
      "source": [
        "Finally, we need some function to track convergence. We will use variational lower bound $\\mathcal{L}$ for this purpose. We will stop our EM iterations when $\\mathcal{L}$ will saturate. Usually, you will need only about 10-20 iterations to converge. It is also useful to check that this function never decreases during training. If it does, you have a bug in your code.\n",
        "\n",
        "<b>Task 3:</b> Implement a function that will compute $\\mathcal{L}$ using template below.\n",
        "\n",
        "$$\\mathcal{L} = \\sum_{i=1}^{N} \\sum_{c=1}^{C} q(t_i =c) (\\log \\pi_c + \\log f_{\\!\\mathcal{N}}(x_i \\mid \\mu_c, \\Sigma_c)) - \\sum_{i=1}^{N} \\sum_{c=1}^{K} q(t_i =c) \\log q(t_i =c)$$"
      ]
    },
    {
      "cell_type": "code",
      "metadata": {
        "id": "B5tKCZe0BEEE",
        "colab_type": "code",
        "colab": {}
      },
      "source": [
        "def compute_vlb(X, pi, mu, sigma, gamma):\n",
        "    \"\"\"\n",
        "    Each input is numpy array:\n",
        "    X: (N x d), data points\n",
        "    gamma: (N x C), distribution q(T)  \n",
        "    pi: (C)\n",
        "    mu: (C x d)\n",
        "    sigma: (C x d x d)\n",
        "    \n",
        "    Returns value of variational lower bound\n",
        "    \"\"\"\n",
        "    N = X.shape[0] # number of objects\n",
        "    C = gamma.shape[1] # number of clusters\n",
        "    d = X.shape[1] # dimension of each object\n",
        "\n",
        "    ### YOUR CODE HERE\n",
        "    exponents = list()\n",
        "    const = list()\n",
        "    for c in range(C):\n",
        "      # Calculate the exponent in the Gaussian\n",
        "      y = np.linalg.solve(sigma[c], (X - mu[c]).T)\n",
        "      exponents.append(np.sum((-1/2.0)* (X - mu[c]) * y.T, axis=1))\n",
        "      \n",
        "      # Calculate the multiplying constant\n",
        "      sign, logdet = np.linalg.slogdet(2 * np.pi * sigma[c])\n",
        "      const.append(np.exp(logdet))\n",
        "      \n",
        "    const = np.array(const)\n",
        "    const = 1 / np.sqrt(const)\n",
        "    exponents = np.vstack(exponents).T\n",
        "    num = (np.exp(exponents) * const) * pi\n",
        "    \n",
        "    s1 = ((exponents + np.log(const) + np.log(pi)) * gamma).sum()\n",
        "    s2 = (gamma * np.log(gamma)).sum()\n",
        "    \n",
        "    loss = s1 - s2\n",
        "\n",
        "    return loss"
      ],
      "execution_count": 0,
      "outputs": []
    },
    {
      "cell_type": "code",
      "metadata": {
        "id": "xNva3XRTBEEI",
        "colab_type": "code",
        "outputId": "68386ccd-05cb-42f4-c8c5-3e224088f5d0",
        "colab": {
          "base_uri": "https://localhost:8080/",
          "height": 34
        }
      },
      "source": [
        "pi, mu, sigma = pi0, mu0, sigma0\n",
        "gamma = E_step(X, pi, mu, sigma)\n",
        "pi, mu, sigma = M_step(X, gamma)\n",
        "loss = compute_vlb(X, pi, mu, sigma, gamma)\n",
        "grader.submit_VLB(loss)"
      ],
      "execution_count": 11,
      "outputs": [
        {
          "output_type": "stream",
          "text": [
            "Current answer for task Task 3 (VLB) is: -1213.9734643060185\n"
          ],
          "name": "stdout"
        }
      ]
    },
    {
      "cell_type": "markdown",
      "metadata": {
        "id": "I5p8XC-eBEEM",
        "colab_type": "text"
      },
      "source": [
        "### Bringing it all together"
      ]
    },
    {
      "cell_type": "markdown",
      "metadata": {
        "id": "cQsdsNVCBEEU",
        "colab_type": "text"
      },
      "source": [
        "Now that we have E step, M step and VLB, we can implement the training loop. We will initialize values of $\\pi$, $\\mu$ and $\\Sigma$ to some random numbers, train until $\\mathcal{L}$ stops changing, and return the resulting points. We also know that the EM algorithm converges to local optima. To find a better local optima, we will restart the algorithm multiple times from different (random) starting positions. Each training trial should stop either when maximum number of iterations is reached or when relative improvement is smaller than given tolerance ($|\\frac{\\mathcal{L}_i-\\mathcal{L}_{i-1}}{\\mathcal{L}_{i-1}}| \\le \\text{rtol}$).\n",
        "\n",
        "Remember, that initial (random) values of $\\pi$ that you generate must be non-negative and sum up to 1. Also, $\\Sigma$ matrices must be symmetric and positive semi-definite. If you don't know how to generate those matrices, you can use $\\Sigma=I$ as initialization.\n",
        "\n",
        "You will also sometimes get numerical errors because of component collapsing. The easiest way to deal with this problems is to restart the procedure.\n",
        "\n",
        "<b>Task 4:</b> Implement training procedure"
      ]
    },
    {
      "cell_type": "code",
      "metadata": {
        "id": "Q1AAcyl0BEEW",
        "colab_type": "code",
        "colab": {}
      },
      "source": [
        "def train_EM(X, C, rtol=1e-3, max_iter=100, restarts=10):\n",
        "    '''\n",
        "    Starts with random initialization *restarts* times\n",
        "    Runs optimization until saturation with *rtol* reached\n",
        "    or *max_iter* iterations were made.\n",
        "    \n",
        "    X: (N, d), data points\n",
        "    C: int, number of clusters\n",
        "    '''\n",
        "    N = X.shape[0] # number of objects\n",
        "    d = X.shape[1] # dimension of each object\n",
        "    best_loss = None\n",
        "    best_pi = None\n",
        "    best_mu = None\n",
        "    best_sigma = None\n",
        "\n",
        "    for _ in range(restarts):\n",
        "        try:\n",
        "            ### YOUR CODE HERE\n",
        "            # Initialize the parameters\n",
        "            pi = np.random.rand(C)\n",
        "            pi = pi / pi.sum()\n",
        "            \n",
        "            m = X.min(axis=0)\n",
        "            M = X.max(axis=0)\n",
        "            mu_coef = np.random.rand(C, d)\n",
        "            mu = m + (M - m) * mu_coef\n",
        "            \n",
        "            sigma = np.tile(np.eye(d), (C, 1, 1))\n",
        "            \n",
        "            #gamma = np.ones((N, C))*pi\n",
        "            print('first e step')\n",
        "            gamma = E_step(X, pi, mu, sigma)\n",
        "            print('first vlb computation')\n",
        "            loss_prev = compute_vlb(X, pi, mu, sigma, gamma)\n",
        "            if best_loss is None:\n",
        "              best_loss = loss_prev\n",
        "              best_pi = pi\n",
        "              best_mu = mu\n",
        "              best_sigma = sigma\n",
        "            \n",
        "            print('Iteration starts...')\n",
        "            # Iterate\n",
        "            while True:\n",
        "              gamma = E_step(X, pi, mu, sigma)\n",
        "              pi, mu, sigma = M_step(X, gamma)\n",
        "              loss = compute_vlb(X, pi, mu, sigma, gamma)\n",
        "              \n",
        "              print('Prev Loss: {}, Loss: {} -- Best loss: {}'.format(loss_prev, loss, best_loss))\n",
        "              if loss > best_loss:\n",
        "                best_loss = loss_prev\n",
        "                best_pi = pi\n",
        "                best_mu = mu\n",
        "                best_sigma = sigma\n",
        "                \n",
        "              if np.isnan(loss):\n",
        "                break\n",
        "              if np.abs((loss - loss_prev) / loss_prev) <= rtol:\n",
        "                break\n",
        "              loss_prev = loss\n",
        "\n",
        "        except np.linalg.LinAlgError:\n",
        "            print(\"Singular matrix: components collapsed\")\n",
        "            pass\n",
        "\n",
        "    return best_loss, best_pi, best_mu, best_sigma"
      ],
      "execution_count": 0,
      "outputs": []
    },
    {
      "cell_type": "code",
      "metadata": {
        "id": "0f8A5sbmBEEZ",
        "colab_type": "code",
        "outputId": "233ada29-7407-4549-fe6f-6ebb74cbe6de",
        "colab": {
          "base_uri": "https://localhost:8080/",
          "height": 1000
        }
      },
      "source": [
        "best_loss, best_pi, best_mu, best_sigma = train_EM(X, 3)\n",
        "grader.submit_EM(best_loss)"
      ],
      "execution_count": 21,
      "outputs": [
        {
          "output_type": "stream",
          "text": [
            "first e step\n",
            "first vlb computation\n",
            "Iteration starts...\n",
            "Prev Loss: -1780.7054201046687, Loss: -1160.3879980771044 -- Best loss: -1780.7054201046687\n",
            "Prev Loss: -1160.3879980771044, Loss: -1139.6396095741156 -- Best loss: -1780.7054201046687\n",
            "Prev Loss: -1139.6396095741156, Loss: -1133.3836384809692 -- Best loss: -1160.3879980771044\n",
            "Prev Loss: -1133.3836384809692, Loss: -1128.6839779343538 -- Best loss: -1139.6396095741156\n",
            "Prev Loss: -1128.6839779343538, Loss: -1123.5371531491946 -- Best loss: -1133.3836384809692\n",
            "Prev Loss: -1123.5371531491946, Loss: -1117.2181571523133 -- Best loss: -1128.6839779343538\n",
            "Prev Loss: -1117.2181571523133, Loss: -1108.8584860322226 -- Best loss: -1123.5371531491946\n",
            "Prev Loss: -1108.8584860322226, Loss: -1096.1777059742417 -- Best loss: -1117.2181571523133\n",
            "Prev Loss: -1096.1777059742417, Loss: -1076.954381743109 -- Best loss: -1108.8584860322226\n",
            "Prev Loss: -1076.954381743109, Loss: -1068.3699382561815 -- Best loss: -1096.1777059742417\n",
            "Prev Loss: -1068.3699382561815, Loss: -1066.0799926442078 -- Best loss: -1076.954381743109\n",
            "Prev Loss: -1066.0799926442078, Loss: -1064.880006347574 -- Best loss: -1068.3699382561815\n",
            "Prev Loss: -1064.880006347574, Loss: -1064.3015173554531 -- Best loss: -1066.0799926442078\n",
            "first e step\n",
            "first vlb computation\n",
            "Iteration starts...\n",
            "Prev Loss: -2351.8295451254367, Loss: -1162.6430434647923 -- Best loss: -1064.880006347574\n",
            "Prev Loss: -1162.6430434647923, Loss: -1134.5358731545602 -- Best loss: -1064.880006347574\n",
            "Prev Loss: -1134.5358731545602, Loss: -1121.5639859214912 -- Best loss: -1064.880006347574\n",
            "Prev Loss: -1121.5639859214912, Loss: -1113.229880623818 -- Best loss: -1064.880006347574\n",
            "Prev Loss: -1113.229880623818, Loss: -1106.9002017060388 -- Best loss: -1064.880006347574\n",
            "Prev Loss: -1106.9002017060388, Loss: -1100.062872688899 -- Best loss: -1064.880006347574\n",
            "Prev Loss: -1100.062872688899, Loss: -1089.8490636101378 -- Best loss: -1064.880006347574\n",
            "Prev Loss: -1089.8490636101378, Loss: -1072.9189717132836 -- Best loss: -1064.880006347574\n",
            "Prev Loss: -1072.9189717132836, Loss: -1066.3571403061937 -- Best loss: -1064.880006347574\n",
            "Prev Loss: -1066.3571403061937, Loss: -1065.2092792386613 -- Best loss: -1064.880006347574\n",
            "Prev Loss: -1065.2092792386613, Loss: -1064.5607497810652 -- Best loss: -1064.880006347574\n",
            "first e step\n",
            "first vlb computation\n",
            "Iteration starts...\n",
            "Prev Loss: -2300.1179833503284, Loss: -1179.6007534891776 -- Best loss: -1065.2092792386613\n",
            "Prev Loss: -1179.6007534891776, Loss: -1153.3578389390914 -- Best loss: -1065.2092792386613\n",
            "Prev Loss: -1153.3578389390914, Loss: -1138.2327351396523 -- Best loss: -1065.2092792386613\n",
            "Prev Loss: -1138.2327351396523, Loss: -1125.351474772827 -- Best loss: -1065.2092792386613\n",
            "Prev Loss: -1125.351474772827, Loss: -1116.6570256097773 -- Best loss: -1065.2092792386613\n",
            "Prev Loss: -1116.6570256097773, Loss: -1111.498000564494 -- Best loss: -1065.2092792386613\n",
            "Prev Loss: -1111.498000564494, Loss: -1108.197230884449 -- Best loss: -1065.2092792386613\n",
            "Prev Loss: -1108.197230884449, Loss: -1105.8659254749798 -- Best loss: -1065.2092792386613\n",
            "Prev Loss: -1105.8659254749798, Loss: -1104.106830371489 -- Best loss: -1065.2092792386613\n",
            "Prev Loss: -1104.106830371489, Loss: -1102.6987886694035 -- Best loss: -1065.2092792386613\n",
            "Prev Loss: -1102.6987886694035, Loss: -1101.5048564073215 -- Best loss: -1065.2092792386613\n",
            "Prev Loss: -1101.5048564073215, Loss: -1100.433893782115 -- Best loss: -1065.2092792386613\n",
            "first e step\n",
            "first vlb computation\n",
            "Iteration starts...\n",
            "Prev Loss: -1802.4964221387597, Loss: -1127.9934793713544 -- Best loss: -1065.2092792386613\n",
            "Prev Loss: -1127.9934793713544, Loss: -1105.1142809061716 -- Best loss: -1065.2092792386613\n",
            "Prev Loss: -1105.1142809061716, Loss: -1100.4481041265942 -- Best loss: -1065.2092792386613\n",
            "Prev Loss: -1100.4481041265942, Loss: -1097.888784737445 -- Best loss: -1065.2092792386613\n",
            "Prev Loss: -1097.888784737445, Loss: -1095.8073581954377 -- Best loss: -1065.2092792386613\n",
            "Prev Loss: -1095.8073581954377, Loss: -1093.55649467417 -- Best loss: -1065.2092792386613\n",
            "Prev Loss: -1093.55649467417, Loss: -1090.6034614549449 -- Best loss: -1065.2092792386613\n",
            "Prev Loss: -1090.6034614549449, Loss: -1086.2811210836062 -- Best loss: -1065.2092792386613\n",
            "Prev Loss: -1086.2811210836062, Loss: -1080.5389224948035 -- Best loss: -1065.2092792386613\n",
            "Prev Loss: -1080.5389224948035, Loss: -1073.2866676877175 -- Best loss: -1065.2092792386613\n",
            "Prev Loss: -1073.2866676877175, Loss: -1065.1042777548582 -- Best loss: -1065.2092792386613\n",
            "Prev Loss: -1065.1042777548582, Loss: -1063.9812694910443 -- Best loss: -1073.2866676877175\n",
            "Prev Loss: -1063.9812694910443, Loss: -1063.856515359648 -- Best loss: -1065.1042777548582\n",
            "first e step\n",
            "first vlb computation\n",
            "Iteration starts...\n",
            "Prev Loss: -4637.356576625361, Loss: -1216.73999561568 -- Best loss: -1063.9812694910443\n",
            "Prev Loss: -1216.73999561568, Loss: -1159.7086037579265 -- Best loss: -1063.9812694910443\n",
            "Prev Loss: -1159.7086037579265, Loss: -1140.9103395620737 -- Best loss: -1063.9812694910443\n",
            "Prev Loss: -1140.9103395620737, Loss: -1122.2042629424752 -- Best loss: -1063.9812694910443\n",
            "Prev Loss: -1122.2042629424752, Loss: -1101.5230668734407 -- Best loss: -1063.9812694910443\n",
            "Prev Loss: -1101.5230668734407, Loss: -1087.9458772598987 -- Best loss: -1063.9812694910443\n",
            "Prev Loss: -1087.9458772598987, Loss: -1081.7204156077034 -- Best loss: -1063.9812694910443\n",
            "Prev Loss: -1081.7204156077034, Loss: -1078.7625739706812 -- Best loss: -1063.9812694910443\n",
            "Prev Loss: -1078.7625739706812, Loss: -1076.7591802568536 -- Best loss: -1063.9812694910443\n",
            "Prev Loss: -1076.7591802568536, Loss: -1074.9090213951445 -- Best loss: -1063.9812694910443\n",
            "Prev Loss: -1074.9090213951445, Loss: -1073.0770547042753 -- Best loss: -1063.9812694910443\n",
            "Prev Loss: -1073.0770547042753, Loss: -1071.2567881954922 -- Best loss: -1063.9812694910443\n",
            "Prev Loss: -1071.2567881954922, Loss: -1069.4861321898054 -- Best loss: -1063.9812694910443\n",
            "Prev Loss: -1069.4861321898054, Loss: -1067.8428558225105 -- Best loss: -1063.9812694910443\n",
            "Prev Loss: -1067.8428558225105, Loss: -1066.4499043416515 -- Best loss: -1063.9812694910443\n",
            "Prev Loss: -1066.4499043416515, Loss: -1065.4054450804417 -- Best loss: -1063.9812694910443\n",
            "first e step\n",
            "first vlb computation\n",
            "Iteration starts...\n",
            "Prev Loss: -2070.894344247178, Loss: -1143.6954393489227 -- Best loss: -1063.9812694910443\n",
            "Prev Loss: -1143.6954393489227, Loss: -1097.7142218490385 -- Best loss: -1063.9812694910443\n",
            "Prev Loss: -1097.7142218490385, Loss: -1067.4542675182577 -- Best loss: -1063.9812694910443\n",
            "Prev Loss: -1067.4542675182577, Loss: -1064.9238336018843 -- Best loss: -1063.9812694910443\n",
            "Prev Loss: -1064.9238336018843, Loss: -1064.388240803935 -- Best loss: -1063.9812694910443\n",
            "first e step\n",
            "first vlb computation\n",
            "Iteration starts...\n",
            "Prev Loss: -1687.6266362803656, Loss: -1191.483820934397 -- Best loss: -1063.9812694910443\n",
            "Prev Loss: -1191.483820934397, Loss: -1169.1184155087215 -- Best loss: -1063.9812694910443\n",
            "Prev Loss: -1169.1184155087215, Loss: -1163.8971863267482 -- Best loss: -1063.9812694910443\n",
            "Prev Loss: -1163.8971863267482, Loss: -1160.1074480172515 -- Best loss: -1063.9812694910443\n",
            "Prev Loss: -1160.1074480172515, Loss: -1156.310566371663 -- Best loss: -1063.9812694910443\n",
            "Prev Loss: -1156.310566371663, Loss: -1152.478060459321 -- Best loss: -1063.9812694910443\n",
            "Prev Loss: -1152.478060459321, Loss: -1148.6369168106553 -- Best loss: -1063.9812694910443\n",
            "Prev Loss: -1148.6369168106553, Loss: -1144.7531172510405 -- Best loss: -1063.9812694910443\n",
            "Prev Loss: -1144.7531172510405, Loss: -1140.846922629824 -- Best loss: -1063.9812694910443\n",
            "Prev Loss: -1140.846922629824, Loss: -1136.9687359465377 -- Best loss: -1063.9812694910443\n",
            "Prev Loss: -1136.9687359465377, Loss: -1133.0496985014568 -- Best loss: -1063.9812694910443\n",
            "Prev Loss: -1133.0496985014568, Loss: -1128.8431899991303 -- Best loss: -1063.9812694910443\n",
            "Prev Loss: -1128.8431899991303, Loss: -1124.1305509098333 -- Best loss: -1063.9812694910443\n",
            "Prev Loss: -1124.1305509098333, Loss: -1119.070876738496 -- Best loss: -1063.9812694910443\n",
            "Prev Loss: -1119.070876738496, Loss: -1114.1130185728052 -- Best loss: -1063.9812694910443\n",
            "Prev Loss: -1114.1130185728052, Loss: -1109.6473743663266 -- Best loss: -1063.9812694910443\n",
            "Prev Loss: -1109.6473743663266, Loss: -1105.9980506747445 -- Best loss: -1063.9812694910443\n",
            "Prev Loss: -1105.9980506747445, Loss: -1103.323045897959 -- Best loss: -1063.9812694910443\n",
            "Prev Loss: -1103.323045897959, Loss: -1101.4640981174218 -- Best loss: -1063.9812694910443\n",
            "Prev Loss: -1101.4640981174218, Loss: -1100.0924405229136 -- Best loss: -1063.9812694910443\n",
            "Prev Loss: -1100.0924405229136, Loss: -1098.928234286782 -- Best loss: -1063.9812694910443\n",
            "Prev Loss: -1098.928234286782, Loss: -1097.788094854128 -- Best loss: -1063.9812694910443\n",
            "Prev Loss: -1097.788094854128, Loss: -1096.545030474758 -- Best loss: -1063.9812694910443\n",
            "Prev Loss: -1096.545030474758, Loss: -1095.0916411589553 -- Best loss: -1063.9812694910443\n",
            "Prev Loss: -1095.0916411589553, Loss: -1093.2986332873775 -- Best loss: -1063.9812694910443\n",
            "Prev Loss: -1093.2986332873775, Loss: -1090.9128174358207 -- Best loss: -1063.9812694910443\n",
            "Prev Loss: -1090.9128174358207, Loss: -1087.5233055831798 -- Best loss: -1063.9812694910443\n",
            "Prev Loss: -1087.5233055831798, Loss: -1083.1473683305178 -- Best loss: -1063.9812694910443\n",
            "Prev Loss: -1083.1473683305178, Loss: -1078.119612733407 -- Best loss: -1063.9812694910443\n",
            "Prev Loss: -1078.119612733407, Loss: -1070.5806311992026 -- Best loss: -1063.9812694910443\n",
            "Prev Loss: -1070.5806311992026, Loss: -1064.580255396481 -- Best loss: -1063.9812694910443\n",
            "Prev Loss: -1064.580255396481, Loss: -1063.9846008119414 -- Best loss: -1063.9812694910443\n",
            "first e step\n",
            "first vlb computation\n",
            "Iteration starts...\n",
            "Prev Loss: -1605.7423549914909, Loss: -1090.6372451983025 -- Best loss: -1063.9812694910443\n",
            "Prev Loss: -1090.6372451983025, Loss: -1076.1289852716923 -- Best loss: -1063.9812694910443\n",
            "Prev Loss: -1076.1289852716923, Loss: -1068.2804955313763 -- Best loss: -1063.9812694910443\n",
            "Prev Loss: -1068.2804955313763, Loss: -1064.6308485403683 -- Best loss: -1063.9812694910443\n",
            "Prev Loss: -1064.6308485403683, Loss: -1063.9528596307018 -- Best loss: -1063.9812694910443\n",
            "first e step\n",
            "first vlb computation\n",
            "Iteration starts...\n",
            "Prev Loss: -3013.7112002442677, Loss: -1216.358607519245 -- Best loss: -1064.6308485403683\n",
            "Prev Loss: -1216.358607519245, Loss: -1185.246344227886 -- Best loss: -1064.6308485403683\n",
            "Prev Loss: -1185.246344227886, Loss: -1162.8456577560473 -- Best loss: -1064.6308485403683\n",
            "Prev Loss: -1162.8456577560473, Loss: -1144.1245093592402 -- Best loss: -1064.6308485403683\n",
            "Prev Loss: -1144.1245093592402, Loss: -1119.0492143336437 -- Best loss: -1064.6308485403683\n",
            "Prev Loss: -1119.0492143336437, Loss: -1098.6928595249492 -- Best loss: -1064.6308485403683\n",
            "Prev Loss: -1098.6928595249492, Loss: -1091.7294039963037 -- Best loss: -1064.6308485403683\n",
            "Prev Loss: -1091.7294039963037, Loss: -1086.8031035063216 -- Best loss: -1064.6308485403683\n",
            "Prev Loss: -1086.8031035063216, Loss: -1082.1258474949345 -- Best loss: -1064.6308485403683\n",
            "Prev Loss: -1082.1258474949345, Loss: -1077.314264049655 -- Best loss: -1064.6308485403683\n",
            "Prev Loss: -1077.314264049655, Loss: -1072.26203683333 -- Best loss: -1064.6308485403683\n",
            "Prev Loss: -1072.26203683333, Loss: -1068.1009981560576 -- Best loss: -1064.6308485403683\n",
            "Prev Loss: -1068.1009981560576, Loss: -1065.8131193649508 -- Best loss: -1064.6308485403683\n",
            "Prev Loss: -1065.8131193649508, Loss: -1064.7165166868447 -- Best loss: -1064.6308485403683\n",
            "Prev Loss: -1064.7165166868447, Loss: -1064.2177209383037 -- Best loss: -1064.6308485403683\n",
            "first e step\n",
            "first vlb computation\n",
            "Iteration starts...\n",
            "Prev Loss: -1574.9258545887121, Loss: -1174.1940489655547 -- Best loss: -1064.7165166868447\n",
            "Prev Loss: -1174.1940489655547, Loss: -1168.5402819937656 -- Best loss: -1064.7165166868447\n",
            "Prev Loss: -1168.5402819937656, Loss: -1166.6966654073976 -- Best loss: -1064.7165166868447\n",
            "Prev Loss: -1166.6966654073976, Loss: -1165.4173079393202 -- Best loss: -1064.7165166868447\n",
            "Prev Loss: -1165.4173079393202, Loss: -1163.8970842601539 -- Best loss: -1064.7165166868447\n",
            "Prev Loss: -1163.8970842601539, Loss: -1160.202681950727 -- Best loss: -1064.7165166868447\n",
            "Prev Loss: -1160.202681950727, Loss: -1144.0837712280786 -- Best loss: -1064.7165166868447\n",
            "Prev Loss: -1144.0837712280786, Loss: -1102.8043484559842 -- Best loss: -1064.7165166868447\n",
            "Prev Loss: -1102.8043484559842, Loss: -1093.9385778834335 -- Best loss: -1064.7165166868447\n",
            "Prev Loss: -1093.9385778834335, Loss: -1092.0608812009548 -- Best loss: -1064.7165166868447\n",
            "Prev Loss: -1092.0608812009548, Loss: -1090.2718340886818 -- Best loss: -1064.7165166868447\n",
            "Prev Loss: -1090.2718340886818, Loss: -1088.4819792259073 -- Best loss: -1064.7165166868447\n",
            "Prev Loss: -1088.4819792259073, Loss: -1086.7012511139517 -- Best loss: -1064.7165166868447\n",
            "Prev Loss: -1086.7012511139517, Loss: -1084.8878309814006 -- Best loss: -1064.7165166868447\n",
            "Prev Loss: -1084.8878309814006, Loss: -1082.9100335692547 -- Best loss: -1064.7165166868447\n",
            "Prev Loss: -1082.9100335692547, Loss: -1080.5106589757124 -- Best loss: -1064.7165166868447\n",
            "Prev Loss: -1080.5106589757124, Loss: -1077.1427672837008 -- Best loss: -1064.7165166868447\n",
            "Prev Loss: -1077.1427672837008, Loss: -1071.8222865112416 -- Best loss: -1064.7165166868447\n",
            "Prev Loss: -1071.8222865112416, Loss: -1066.5650021954211 -- Best loss: -1064.7165166868447\n",
            "Prev Loss: -1066.5650021954211, Loss: -1064.9104007777946 -- Best loss: -1064.7165166868447\n",
            "Prev Loss: -1064.9104007777946, Loss: -1064.3140417133145 -- Best loss: -1064.7165166868447\n",
            "Current answer for task Task 4 (EM) is: -1064.9104007777946\n"
          ],
          "name": "stdout"
        }
      ]
    },
    {
      "cell_type": "markdown",
      "metadata": {
        "id": "tYd6tPHKBEEd",
        "colab_type": "text"
      },
      "source": [
        "If you implemented all the steps correctly, your algorithm should converge in about 20 iterations. Let's plot the clusters to see it. We will assign a cluster label as the most probable cluster index. This can be found using a matrix $\\gamma$ computed on last E-step. "
      ]
    },
    {
      "cell_type": "code",
      "metadata": {
        "id": "mK_M6QLnBEEe",
        "colab_type": "code",
        "outputId": "645ab041-ac24-4bd3-ea32-dd7bc47d2829",
        "colab": {
          "base_uri": "https://localhost:8080/",
          "height": 269
        }
      },
      "source": [
        "gamma = E_step(X, best_pi, best_mu, best_sigma)\n",
        "labels = gamma.argmax(axis=1)\n",
        "#colors = np.array([(31, 119, 180), (255, 127, 14), (44, 160, 44)]) / 255.\n",
        "colors = cm.rainbow(np.linspace(0, 1, best_mu.shape[0]))\n",
        "plt.scatter(X[:, 0], X[:, 1], c=colors[labels], s=30)\n",
        "plt.axis('equal')\n",
        "plt.show()"
      ],
      "execution_count": 22,
      "outputs": [
        {
          "output_type": "display_data",
          "data": {
            "image/png": "[encoded data removed]",
            "text/plain": [
              "<Figure size 432x288 with 1 Axes>"
            ]
          },
          "metadata": {
            "tags": []
          }
        }
      ]
    },
    {
      "cell_type": "markdown",
      "metadata": {
        "id": "h4lnjrc7BEEl",
        "colab_type": "text"
      },
      "source": [
        "# Authorization & Submission\n",
        "To submit assignment parts to Cousera platform, please, enter your e-mail and token into variables below. You can generate a token on this programming assignment's page. <b>Note:</b> The token expires 30 minutes after generation."
      ]
    },
    {
      "cell_type": "code",
      "metadata": {
        "id": "5uQRl29_BEEl",
        "colab_type": "code",
        "colab": {
          "base_uri": "https://localhost:8080/",
          "height": 139
        },
        "outputId": "ce95c87e-d6de-4509-d48d-dff4b108d9b4"
      },
      "source": [
        "STUDENT_EMAIL = \"\"\n",
        "STUDENT_TOKEN = \"\"\n",
        "grader.status()"
      ],
      "execution_count": 15,
      "outputs": [
        {
          "output_type": "stream",
          "text": [
            "You want to submit these numbers:\n",
            "Task Task 1 (E-step): 0.5337178741081267\n",
            "Task Task 2 (M-step: mu): 2.899391882050382\n",
            "Task Task 2 (M-step: sigma): 5.977105216897526\n",
            "Task Task 2 (M-step: pi): 0.5507624459218777\n",
            "Task Task 3 (VLB): -1213.9734643060185\n",
            "Task Task 4 (EM): -1064.1641042318577\n"
          ],
          "name": "stdout"
        }
      ]
    },
    {
      "cell_type": "markdown",
      "metadata": {
        "id": "sNCsqNOiBEEn",
        "colab_type": "text"
      },
      "source": [
        "If you want to submit these answers, run cell below"
      ]
    },
    {
      "cell_type": "code",
      "metadata": {
        "id": "3sc9imWNBEEo",
        "colab_type": "code",
        "colab": {
          "base_uri": "https://localhost:8080/",
          "height": 34
        },
        "outputId": "8ebc7cd7-36f0-4348-a8c5-da5f63afe9ec"
      },
      "source": [
        "grader.submit(STUDENT_EMAIL, STUDENT_TOKEN)"
      ],
      "execution_count": 16,
      "outputs": [
        {
          "output_type": "stream",
          "text": [
            "Submitted to Coursera platform. See results on assignment page!\n"
          ],
          "name": "stdout"
        }
      ]
    },
    {
      "cell_type": "code",
      "metadata": {
        "id": "-YQAsx2shY2_",
        "colab_type": "code",
        "colab": {}
      },
      "source": [
        ""
      ],
      "execution_count": 0,
      "outputs": []
    }
  ]
}