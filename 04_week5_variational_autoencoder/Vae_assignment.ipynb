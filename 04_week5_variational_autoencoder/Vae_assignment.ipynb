{
 "cells": [
  {
   "cell_type": "markdown",
   "metadata": {
    "colab_type": "text",
    "id": "G233yNiDOnLp"
   },
   "source": [
    "# First things first\n",
    "* Click **File -> Save a copy in Drive** and click **Open in new tab** in the pop-up window to save your progress in Google Drive.\n",
    "* Click **Runtime -> Change runtime type** and select **GPU** in Hardware accelerator box to enable faster GPU training."
   ]
  },
  {
   "cell_type": "markdown",
   "metadata": {
    "colab_type": "text",
    "id": "74KEu1L8OnLq"
   },
   "source": [
    "# Variational Autoencoder"
   ]
  },
  {
   "cell_type": "markdown",
   "metadata": {
    "colab_type": "text",
    "id": "r94_BRA-OnLr"
   },
   "source": [
    "In this assignment, you will build Variational Autoencoder, train it on the MNIST dataset, and play with its architecture and hyperparameters."
   ]
  },
  {
   "cell_type": "markdown",
   "metadata": {
    "colab_type": "text",
    "id": "LyLQLqBcOnLt"
   },
   "source": [
    "### Setup\n",
    "Loading auxiliary files and importing the necessary libraries."
   ]
  },
  {
   "cell_type": "code",
   "execution_count": 1,
   "metadata": {
    "colab": {
     "base_uri": "https://localhost:8080/",
     "height": 260
    },
    "colab_type": "code",
    "id": "naC94KtXOnLt",
    "outputId": "532b5066-a731-40a7-c809-4d7eaa4f2f55"
   },
   "outputs": [
    {
     "data": {
      "text/plain": [
       "'\\ntry:\\n    import google.colab\\n    IN_COLAB = True\\nexcept:\\n    IN_COLAB = False\\nif IN_COLAB:\\n    print(\"Downloading Colab files\")\\n    ! shred -u setup_google_colab.py\\n    ! wget https://raw.githubusercontent.com/hse-aml/bayesian-methods-for-ml/master/setup_google_colab.py -O setup_google_colab.py\\n    import setup_google_colab\\n    setup_google_colab.load_data_week5()\\n'"
      ]
     },
     "execution_count": 1,
     "metadata": {},
     "output_type": "execute_result"
    }
   ],
   "source": [
    "# Uncomment to run in Colab\n",
    "\"\"\"\n",
    "try:\n",
    "    import google.colab\n",
    "    IN_COLAB = True\n",
    "except:\n",
    "    IN_COLAB = False\n",
    "if IN_COLAB:\n",
    "    print(\"Downloading Colab files\")\n",
    "    ! shred -u setup_google_colab.py\n",
    "    ! wget https://raw.githubusercontent.com/hse-aml/bayesian-methods-for-ml/master/setup_google_colab.py -O setup_google_colab.py\n",
    "    import setup_google_colab\n",
    "    setup_google_colab.load_data_week5()\n",
    "\"\"\""
   ]
  },
  {
   "cell_type": "code",
   "execution_count": 5,
   "metadata": {
    "colab": {
     "base_uri": "https://localhost:8080/",
     "height": 34
    },
    "colab_type": "code",
    "id": "H-hJ6_wBOnLz",
    "outputId": "f99ade40-f903-4aef-9aae-27d9e727d3e1"
   },
   "outputs": [],
   "source": [
    "import tensorflow as tf\n",
    "import keras\n",
    "import numpy as np\n",
    "import matplotlib.pyplot as plt\n",
    "\n",
    "from keras.layers import Input, Dense, Lambda, InputLayer, concatenate\n",
    "from keras.models import Model, Sequential\n",
    "from keras import backend as K\n",
    "from keras import metrics\n",
    "from keras.datasets import mnist\n",
    "from keras.utils import np_utils\n",
    "from w5_grader import VAEGrader"
   ]
  },
  {
   "cell_type": "markdown",
   "metadata": {
    "colab_type": "text",
    "id": "KyZf9DsOOnL2"
   },
   "source": [
    "### Grading\n",
    "We will create a grader instance below and use it to collect your answers. Note that these outputs will be stored locally inside grader and will be uploaded to the platform only after running submit function in the last part of this assignment. If you want to make a partial submission, you can run that cell anytime you want."
   ]
  },
  {
   "cell_type": "code",
   "execution_count": 6,
   "metadata": {
    "colab": {},
    "colab_type": "code",
    "id": "V5D7sEDBOnL3"
   },
   "outputs": [],
   "source": [
    "grader = VAEGrader()"
   ]
  },
  {
   "cell_type": "markdown",
   "metadata": {
    "colab_type": "text",
    "id": "RnkOQUeSOnL5"
   },
   "source": [
    "### Variational Autoencoder"
   ]
  },
  {
   "cell_type": "markdown",
   "metadata": {
    "colab_type": "text",
    "id": "GmV9OxiIOnL7"
   },
   "source": [
    "Recall that Variational Autoencoder is a probabilistic model of data based on a continious mixture of distributions. In the lecture we covered the mixture of gaussians case, but here we will apply VAE to binary MNIST images (each pixel is either black or white). To better model binary data we will use a continuous mixture of binomial distributions: $p(x \\mid w) = \\int p(x \\mid t, w) p(t) dt$, where the prior distribution on the latent code $t$ is standard normal $p(t) = \\mathcal{N}(0, I)$, but probability that $(i, j)$-th pixel is black equals to $(i, j)$-th output of the decoder neural detwork: $p(x_{i, j} \\mid t, w) = \\text{decoder}(t, w)_{i, j}$.\n",
    "\n",
    "To train this model we would like to maximize marginal log-likelihood of our dataset $\\max_w \\log p(X \\mid w)$, but it's very hard to do computationally, so instead we maximize the Variational Lower Bound w.r.t. both the original parameters $w$ and variational distribution $q$ which we define as encoder neural network with parameters $\\phi$ which takes input image $x$ and outputs parameters of the gaussian distribution $q(t \\mid x, \\phi)$: $\\log p(X \\mid w) \\geq \\mathcal{L}(w, \\phi) \\rightarrow \\max_{w, \\phi}$.\n",
    "\n",
    "So overall our model looks as follows: encoder takes an image $x$, produces a distribution over latent codes $q(t \\mid x)$ which should approximate the posterior distribution $p(t \\mid x)$ (at least after training), samples a point from this distribution $\\widehat{t} \\sim q(t \\mid x, \\phi)$, and finally feeds it into a decoder that outputs a distribution over images.\n",
    "\n",
    "![](https://github.com/hse-aml/bayesian-methods-for-ml/blob/master/week5/VAE.png?raw=1)\n",
    "\n",
    "In the lecture, we also discussed that variational lower bound has an expected value inside which we are going to approximate with sampling. But it is not trivial since we need to differentiate through this approximation. However, we learned about _reparametrization trick_ which suggests instead of sampling from distribution $\\widehat{t} \\sim q(t \\mid x, \\phi)$ sample from a distribution which doesn't depend on any parameters, e.g. standard normal, and then deterministically transform this sample to the desired one: $\\varepsilon \\sim \\mathcal{N}(0, I); ~~\\widehat{t} = m(x, \\phi) + \\varepsilon \\sigma(x, \\phi)$. This way we don't have to worry about our stochastic gradient being biased and can straightforwardly differentiate our loss w.r.t. all the parameters while treating the current sample $\\varepsilon$ as constant.\n",
    "\n",
    "\n"
   ]
  },
  {
   "cell_type": "markdown",
   "metadata": {
    "colab_type": "text",
    "id": "fVszOw7ROnL8"
   },
   "source": [
    "### Negative Variational Lower Bound"
   ]
  },
  {
   "cell_type": "markdown",
   "metadata": {
    "colab_type": "text",
    "id": "aRMMKLiGOnL9"
   },
   "source": [
    "**Task 1** Derive and implement Variational Lower Bound for the continuous mixture of Binomial distributions.\n",
    "\n",
    "**Note** that in lectures we discussed maximizing the VLB (which is typically a negative number), but in this assignment, for convenience, we will **minimize** the **negated** version of VLB (which will be a positive number) instead of maximizing the usual VLB. In what follows we always talk about _negated_ VLB, even when we use the term VLB for short.\n",
    "\n",
    "**Also note** that to pass the test, your code should work with any mini-batch size.\n",
    "\n",
    "To do that, we need a stochastic estimate of VLB: \n",
    "$$\\text{VLB} = \\sum_{i=1}^N \\text{VLB}_i \\approx \\frac{N}{M}\\sum_{i_s}^M \\text{VLB}_{i_s}$$\n",
    "where $N$ is the dataset size, $\\text{VLB}_i$ is the term of VLB corresponding to the $i$-th object, and $M$ is the mini-batch size. But instead of this stochastic estimate of the full VLB we will use an estimate of the negated VLB normalized by the dataset size, i.e. in the function below you need to return average across the mini-batch $-\\frac{1}{M}\\sum_{i_s}^M \\text{VLB}_{i_s}$. People usually optimize this normalized version of VLB since it doesn't depend on the dataset set - you can write VLB function once and use it for different datasets - the dataset size won't affect the learning rate too much. The correct value for this normalized negated VLB should be around $100 - 170$ in the example below."
   ]
  },
  {
   "cell_type": "code",
   "execution_count": 7,
   "metadata": {
    "colab": {},
    "colab_type": "code",
    "id": "OwynsmjaOnL-"
   },
   "outputs": [],
   "source": [
    "def vlb_binomial(x, x_decoded_mean, t_mean, t_log_var):\n",
    "    \"\"\"Returns the value of negative Variational Lower Bound\n",
    "    \n",
    "    The inputs are tf.Tensor\n",
    "        x: (batch_size x number_of_pixels) matrix with one image per row with zeros and ones\n",
    "        x_decoded_mean: (batch_size x number_of_pixels) mean of the distribution p(x | t), real numbers from 0 to 1\n",
    "        t_mean: (batch_size x latent_dim) mean vector of the (normal) distribution q(t | x)\n",
    "        t_log_var: (batch_size x latent_dim) logarithm of the variance vector of the (normal) distribution q(t | x)\n",
    "    \n",
    "    Returns:\n",
    "        A tf.Tensor with one element (averaged across the batch), VLB\n",
    "    \"\"\"\n",
    "    kl = -0.5 * tf.reduce_sum(1 + t_log_var - tf.math.square(t_mean) - tf.math.exp(t_log_var), axis=1)\n",
    "    posterior = tf.math.multiply(x, tf.math.log(x_decoded_mean + 1e-10)) + tf.math.multiply(1 - x, tf.math.log(1 - x_decoded_mean + 1e-10))\n",
    "    ll = tf.reduce_sum(posterior, axis=1)\n",
    "\n",
    "    return -tf.reduce_mean(ll - kl, axis=0)"
   ]
  },
  {
   "cell_type": "code",
   "execution_count": 8,
   "metadata": {
    "colab": {
     "base_uri": "https://localhost:8080/",
     "height": 72
    },
    "colab_type": "code",
    "id": "dpZjbDz0OnMA",
    "outputId": "aace8937-3ef7-452a-8953-63b0e0095ccc"
   },
   "outputs": [],
   "source": [
    "# Start tf session so we can run code.\n",
    "sess = tf.InteractiveSession()\n",
    "# Connect keras to the created session.\n",
    "K.set_session(sess)"
   ]
  },
  {
   "cell_type": "code",
   "execution_count": 9,
   "metadata": {
    "colab": {
     "base_uri": "https://localhost:8080/",
     "height": 34
    },
    "colab_type": "code",
    "id": "sJoWFRnDOnMF",
    "outputId": "141128d0-13a4-49d2-cf0b-1e7ce85118de"
   },
   "outputs": [
    {
     "name": "stderr",
     "output_type": "stream",
     "text": [
      "WARNING: Logging before flag parsing goes to stderr.\n",
      "W0725 14:05:00.115461 140395900233536 deprecation_wrapper.py:119] From /home/miguel/anaconda3/envs/bayes3/lib/python3.7/site-packages/keras/backend/tensorflow_backend.py:74: The name tf.get_default_graph is deprecated. Please use tf.compat.v1.get_default_graph instead.\n",
      "\n",
      "W0725 14:05:00.117343 140395900233536 deprecation_wrapper.py:119] From /home/miguel/anaconda3/envs/bayes3/lib/python3.7/site-packages/keras/backend/tensorflow_backend.py:517: The name tf.placeholder is deprecated. Please use tf.compat.v1.placeholder instead.\n",
      "\n"
     ]
    },
    {
     "name": "stdout",
     "output_type": "stream",
     "text": [
      "Current answer for task 1 (vlb) is: 157.59705\n"
     ]
    }
   ],
   "source": [
    "grader.submit_vlb(sess, vlb_binomial)"
   ]
  },
  {
   "cell_type": "markdown",
   "metadata": {
    "colab_type": "text",
    "id": "JIajOY9bOnMK"
   },
   "source": [
    "## Encoder / decoder definition"
   ]
  },
  {
   "cell_type": "markdown",
   "metadata": {
    "colab_type": "text",
    "id": "agpMFTzKOnML"
   },
   "source": [
    "**Task 2** Read the code below that defines encoder and decoder networks and implement sampling with reparametrization trick in the provided space."
   ]
  },
  {
   "cell_type": "code",
   "execution_count": 10,
   "metadata": {
    "colab": {
     "base_uri": "https://localhost:8080/",
     "height": 72
    },
    "colab_type": "code",
    "id": "uY_dcGHmOnML",
    "outputId": "9c6ee0b4-e153-4866-b308-af38c75745bb"
   },
   "outputs": [
    {
     "name": "stderr",
     "output_type": "stream",
     "text": [
      "W0725 14:05:04.169324 140395900233536 deprecation_wrapper.py:119] From /home/miguel/anaconda3/envs/bayes3/lib/python3.7/site-packages/keras/backend/tensorflow_backend.py:4138: The name tf.random_uniform is deprecated. Please use tf.random.uniform instead.\n",
      "\n"
     ]
    }
   ],
   "source": [
    "batch_size = 100\n",
    "original_dim = 784 # Number of pixels in MNIST images.\n",
    "latent_dim = 10 # d, dimensionality of the latent code t.\n",
    "intermediate_dims = [512, 256, 128] # Size of the hidden layer.\n",
    "epochs = 10\n",
    "\n",
    "x = Input(batch_shape=(batch_size, original_dim))\n",
    "def create_encoder(input_dim):\n",
    "    # Encoder network.\n",
    "    # We instantiate these layers separately so as to reuse them later\n",
    "    encoder = Sequential(name='encoder')\n",
    "    encoder.add(InputLayer([input_dim]))\n",
    "    for intermediate_dim in intermediate_dims:\n",
    "      encoder.add(Dense(intermediate_dim, activation='relu'))\n",
    "    encoder.add(Dense(2 * latent_dim))\n",
    "    return encoder\n",
    "encoder = create_encoder(original_dim)\n",
    "\n",
    "get_t_mean = Lambda(lambda h: h[:, :latent_dim])\n",
    "get_t_log_var = Lambda(lambda h: h[:, latent_dim:])\n",
    "h = encoder(x)\n",
    "t_mean = get_t_mean(h)\n",
    "t_log_var = get_t_log_var(h)\n",
    "\n",
    "# Sampling from the distribution \n",
    "#     q(t | x) = N(t_mean, exp(t_log_var))\n",
    "# with reparametrization trick.\n",
    "def sampling(args):\n",
    "    \"\"\"Returns sample from a distribution N(args[0], diag(args[1]))\n",
    "    \n",
    "    The sample should be computed with reparametrization trick.\n",
    "    \n",
    "    The inputs are tf.Tensor\n",
    "        args[0]: (batch_size x latent_dim) mean of the desired distribution\n",
    "        args[1]: (batch_size x latent_dim) logarithm of the variance vector of the desired distribution\n",
    "    \n",
    "    Returns:\n",
    "        A tf.Tensor of size (batch_size x latent_dim), the samples.\n",
    "    \"\"\"\n",
    "    t_mean, t_log_var = args\n",
    "    epsilon = tf.random.normal(shape=t_mean.shape, mean=0.0, stddev=1.0)\n",
    "    return tf.multiply(epsilon, tf.math.exp(0.5 * t_log_var)) + t_mean\n",
    "\n",
    "\n",
    "\n",
    "t = Lambda(sampling)([t_mean, t_log_var])\n",
    "\n",
    "def create_decoder(input_dim):\n",
    "    # Decoder network\n",
    "    # We instantiate these layers separately so as to reuse them later\n",
    "    decoder = Sequential(name='decoder')\n",
    "    decoder.add(InputLayer([input_dim]))\n",
    "    for intermediate_dim in intermediate_dims[::-1]:\n",
    "      decoder.add(Dense(intermediate_dim, activation='relu'))\n",
    "    decoder.add(Dense(original_dim, activation='sigmoid'))\n",
    "    return decoder\n",
    "decoder = create_decoder(latent_dim)\n",
    "x_decoded_mean = decoder(t)"
   ]
  },
  {
   "cell_type": "code",
   "execution_count": 11,
   "metadata": {
    "colab": {
     "base_uri": "https://localhost:8080/",
     "height": 52
    },
    "colab_type": "code",
    "id": "YXhY1G7POnMN",
    "outputId": "450149ea-96e1-4c36-b40a-747c2f83805b"
   },
   "outputs": [
    {
     "name": "stdout",
     "output_type": "stream",
     "text": [
      "Current answer for task 2.1 (samples mean) is: -0.12446167\n",
      "Current answer for task 2.2 (samples var) is: 0.03766623\n"
     ]
    }
   ],
   "source": [
    "grader.submit_samples(sess, sampling)"
   ]
  },
  {
   "cell_type": "markdown",
   "metadata": {
    "colab_type": "text",
    "id": "nktDqnapOnMS"
   },
   "source": [
    "## Training the model"
   ]
  },
  {
   "cell_type": "markdown",
   "metadata": {
    "colab_type": "text",
    "id": "Bcs69AvMOnMT"
   },
   "source": [
    "**Task 3** Run the cells below to train the model with the default settings. Modify the parameters to get better results. Especially pay attention to the encoder/decoder architectures (e.g. using more layers, maybe making them convolutional), learning rate, and the number of epochs."
   ]
  },
  {
   "cell_type": "code",
   "execution_count": 12,
   "metadata": {
    "colab": {
     "base_uri": "https://localhost:8080/",
     "height": 72
    },
    "colab_type": "code",
    "id": "ZC2LPovUOnMU",
    "outputId": "27c3df7b-4d0a-4f2c-9d1b-547d9c061de8"
   },
   "outputs": [
    {
     "name": "stderr",
     "output_type": "stream",
     "text": [
      "W0725 14:05:06.201265 140395900233536 deprecation_wrapper.py:119] From /home/miguel/anaconda3/envs/bayes3/lib/python3.7/site-packages/keras/optimizers.py:790: The name tf.train.Optimizer is deprecated. Please use tf.compat.v1.train.Optimizer instead.\n",
      "\n"
     ]
    }
   ],
   "source": [
    "\n",
    "loss = vlb_binomial(x, x_decoded_mean, t_mean, t_log_var)\n",
    "vae = Model(x, x_decoded_mean)\n",
    "# Keras will provide input (x) and output (x_decoded_mean) to the function that\n",
    "# should construct loss, but since our function also depends on other\n",
    "# things (e.g. t_means), it is easier to build the loss in advance and pass\n",
    "# a function that always returns it.\n",
    "vae.compile(optimizer=keras.optimizers.Adam(lr=0.001), loss=lambda x, y: loss)"
   ]
  },
  {
   "cell_type": "markdown",
   "metadata": {
    "colab_type": "text",
    "id": "SVJQG9l4OnMY"
   },
   "source": [
    "#### Load and prepare the data"
   ]
  },
  {
   "cell_type": "code",
   "execution_count": 13,
   "metadata": {
    "colab": {},
    "colab_type": "code",
    "id": "AS79kH0VOnMZ"
   },
   "outputs": [
    {
     "name": "stdout",
     "output_type": "stream",
     "text": [
      "Downloading data from https://s3.amazonaws.com/img-datasets/mnist.npz\n",
      "11493376/11490434 [==============================] - 10s 1us/step\n"
     ]
    }
   ],
   "source": [
    "# train the VAE on MNIST digits\n",
    "(x_train, y_train), (x_test, y_test) = mnist.load_data()\n",
    "# One hot encoding.\n",
    "y_train = np_utils.to_categorical(y_train)\n",
    "y_test = np_utils.to_categorical(y_test)\n",
    "\n",
    "x_train = x_train.astype('float32') / 255.\n",
    "x_test = x_test.astype('float32') / 255.\n",
    "x_train = x_train.reshape((len(x_train), np.prod(x_train.shape[1:])))\n",
    "x_test = x_test.reshape((len(x_test), np.prod(x_test.shape[1:])))"
   ]
  },
  {
   "cell_type": "markdown",
   "metadata": {
    "colab_type": "text",
    "id": "EnWfL2xrOnMb"
   },
   "source": [
    "#### Train the model"
   ]
  },
  {
   "cell_type": "code",
   "execution_count": 14,
   "metadata": {
    "colab": {
     "base_uri": "https://localhost:8080/",
     "height": 471
    },
    "colab_type": "code",
    "id": "J_-zXvnpOnMc",
    "outputId": "dff8fb59-d4a4-43b3-f4e2-2ee7eef4a757"
   },
   "outputs": [
    {
     "name": "stderr",
     "output_type": "stream",
     "text": [
      "W0725 14:05:18.292921 140395900233536 deprecation_wrapper.py:119] From /home/miguel/anaconda3/envs/bayes3/lib/python3.7/site-packages/keras/backend/tensorflow_backend.py:986: The name tf.assign_add is deprecated. Please use tf.compat.v1.assign_add instead.\n",
      "\n",
      "W0725 14:05:18.431289 140395900233536 deprecation_wrapper.py:119] From /home/miguel/anaconda3/envs/bayes3/lib/python3.7/site-packages/keras/backend/tensorflow_backend.py:973: The name tf.assign is deprecated. Please use tf.compat.v1.assign instead.\n",
      "\n"
     ]
    },
    {
     "name": "stdout",
     "output_type": "stream",
     "text": [
      "Train on 60000 samples, validate on 10000 samples\n",
      "Epoch 1/10\n",
      "60000/60000 [==============================] - 8s 135us/step - loss: 161.9473 - val_loss: 129.3134\n",
      "Epoch 2/10\n",
      "60000/60000 [==============================] - 7s 117us/step - loss: 123.2038 - val_loss: 117.3252\n",
      "Epoch 3/10\n",
      "60000/60000 [==============================] - 7s 119us/step - loss: 115.9543 - val_loss: 113.3369\n",
      "Epoch 4/10\n",
      "60000/60000 [==============================] - 7s 116us/step - loss: 112.6402 - val_loss: 110.7011\n",
      "Epoch 5/10\n",
      "60000/60000 [==============================] - 7s 120us/step - loss: 110.3832 - val_loss: 109.3817\n",
      "Epoch 6/10\n",
      "60000/60000 [==============================] - 7s 114us/step - loss: 108.9215 - val_loss: 107.8005\n",
      "Epoch 7/10\n",
      "60000/60000 [==============================] - 7s 114us/step - loss: 107.6063 - val_loss: 107.1779\n",
      "Epoch 8/10\n",
      "60000/60000 [==============================] - 7s 114us/step - loss: 106.7115 - val_loss: 106.2845\n",
      "Epoch 9/10\n",
      "60000/60000 [==============================] - 7s 114us/step - loss: 105.8575 - val_loss: 105.5596\n",
      "Epoch 10/10\n",
      "60000/60000 [==============================] - 7s 114us/step - loss: 105.2326 - val_loss: 105.3534\n"
     ]
    }
   ],
   "source": [
    "hist = vae.fit(x=x_train, y=x_train,\n",
    "               shuffle=True,\n",
    "               epochs=epochs,\n",
    "               batch_size=batch_size,\n",
    "               validation_data=(x_test, x_test),\n",
    "               verbose=1)"
   ]
  },
  {
   "cell_type": "markdown",
   "metadata": {
    "colab_type": "text",
    "id": "FdjnEbpkOnMf"
   },
   "source": [
    "### Visualize reconstructions for train and validation data\n",
    "In the picture below you can see the reconstruction ability of your network on training and validation data. In each of the two images, the left column is MNIST images and the right column is the corresponding image after passing through autoencoder (or more precisely the mean of the binomial distribution over the output images).\n",
    "\n",
    "Note that getting the best possible reconstruction is not the point of VAE, the KL term of the objective specifically hurts the reconstruction performance. But the reconstruction should be anyway reasonable and they provide a visual debugging tool."
   ]
  },
  {
   "cell_type": "code",
   "execution_count": 15,
   "metadata": {
    "colab": {
     "base_uri": "https://localhost:8080/",
     "height": 607
    },
    "colab_type": "code",
    "id": "sDAjZV_kOnMf",
    "outputId": "00d7fa06-94bc-4688-fe4e-37103c6ecc5c"
   },
   "outputs": [
    {
     "data": {
      "image/png": "[encoded data removed]",
      "text/plain": [
       "<Figure size 720x720 with 2 Axes>"
      ]
     },
     "metadata": {
      "needs_background": "light"
     },
     "output_type": "display_data"
    }
   ],
   "source": [
    "fig = plt.figure(figsize=(10, 10))\n",
    "for fid_idx, (data, title) in enumerate(\n",
    "            zip([x_train, x_test], ['Train', 'Validation'])):\n",
    "    n = 10  # figure with 10 x 2 digits\n",
    "    digit_size = 28\n",
    "    figure = np.zeros((digit_size * n, digit_size * 2))\n",
    "    decoded = sess.run(x_decoded_mean, feed_dict={x: data[:batch_size, :]})\n",
    "    for i in range(10):\n",
    "        figure[i * digit_size: (i + 1) * digit_size,\n",
    "               :digit_size] = data[i, :].reshape(digit_size, digit_size)\n",
    "        figure[i * digit_size: (i + 1) * digit_size,\n",
    "               digit_size:] = decoded[i, :].reshape(digit_size, digit_size)\n",
    "    ax = fig.add_subplot(1, 2, fid_idx + 1)\n",
    "    ax.imshow(figure, cmap='Greys_r')\n",
    "    ax.set_title(title)\n",
    "    ax.axis('off')\n",
    "plt.show()"
   ]
  },
  {
   "cell_type": "markdown",
   "metadata": {
    "colab_type": "text",
    "collapsed": true,
    "id": "95lpEe2cOnMi"
   },
   "source": [
    "### Sending the results of your best model as Task 3 submission"
   ]
  },
  {
   "cell_type": "code",
   "execution_count": 16,
   "metadata": {
    "colab": {
     "base_uri": "https://localhost:8080/",
     "height": 34
    },
    "colab_type": "code",
    "id": "KudUfupuOnMi",
    "outputId": "b70d6d8d-2da1-4693-fb6b-1f262542b3b7"
   },
   "outputs": [
    {
     "name": "stdout",
     "output_type": "stream",
     "text": [
      "Current answer for task 3 (best val loss) is: 105.35343963623046\n"
     ]
    }
   ],
   "source": [
    "grader.submit_best_val_loss(hist)"
   ]
  },
  {
   "cell_type": "markdown",
   "metadata": {
    "colab_type": "text",
    "id": "WEclzA3WOnMk"
   },
   "source": [
    "## Hallucinating new data\n",
    "**Task 4** Write code to generate new samples of images from your trained VAE. To do that you have to sample from the prior distribution $p(t)$ and then from the likelihood $p(x \\mid t)$.\n",
    "\n",
    "**Note** that the sampling you've written in Task 2 was for the variational distribution $q(t \\mid x)$, while here you need to sample from the prior."
   ]
  },
  {
   "cell_type": "code",
   "execution_count": 17,
   "metadata": {
    "colab": {},
    "colab_type": "code",
    "id": "jGLqzZD4OnMm"
   },
   "outputs": [],
   "source": [
    "n_samples = 10  # To pass automatic grading please use at least 2 samples here.\n",
    "# YOUR CODE HERE.\n",
    "# ...\n",
    "# sampled_im_mean is a tf.Tensor of size 10 x 784 with 10 random\n",
    "# images sampled from the vae model.\n",
    "decoded = sess.run(x_decoded_mean, feed_dict={t: np.random.normal(0, 1, (100, 10))})  # At least 100 samples needed for the batch size\n",
    "sampled_im_mean = tf.convert_to_tensor(decoded[:n_samples])"
   ]
  },
  {
   "cell_type": "code",
   "execution_count": 18,
   "metadata": {
    "colab": {
     "base_uri": "https://localhost:8080/",
     "height": 185
    },
    "colab_type": "code",
    "id": "1Lzh_yW0OnMo",
    "outputId": "a54fa3bc-67cb-4e82-e843-d78416589fc5"
   },
   "outputs": [
    {
     "data": {
      "image/png": "[encoded data removed]",
      "text/plain": [
       "<Figure size 432x288 with 10 Axes>"
      ]
     },
     "metadata": {
      "needs_background": "light"
     },
     "output_type": "display_data"
    }
   ],
   "source": [
    "sampled_im_mean_np = sess.run(sampled_im_mean)\n",
    "# Show the sampled images.\n",
    "plt.figure()\n",
    "for i in range(n_samples):\n",
    "    ax = plt.subplot(n_samples // 5 + 1, 5, i + 1)\n",
    "    plt.imshow(sampled_im_mean_np[i, :].reshape(28, 28), cmap='gray')\n",
    "    ax.axis('off')\n",
    "plt.show()"
   ]
  },
  {
   "cell_type": "code",
   "execution_count": 19,
   "metadata": {
    "colab": {
     "base_uri": "https://localhost:8080/",
     "height": 52
    },
    "colab_type": "code",
    "id": "6bqdpVNUOnMq",
    "outputId": "0f747bc8-ca2c-43c4-c4ec-9b40af7b8daf"
   },
   "outputs": [
    {
     "name": "stdout",
     "output_type": "stream",
     "text": [
      "Current answer for task 4.1 (hallucinating mean) is: 0.14491281\n",
      "Current answer for task 4.2 (hallucinating var) is: 0.19996464\n"
     ]
    }
   ],
   "source": [
    "grader.submit_hallucinating(sess, sampled_im_mean)"
   ]
  },
  {
   "cell_type": "markdown",
   "metadata": {
    "colab_type": "text",
    "id": "VMuhWEYBOnMt"
   },
   "source": [
    "# Conditional VAE"
   ]
  },
  {
   "cell_type": "markdown",
   "metadata": {
    "colab_type": "text",
    "id": "ly1YYFktOnMu"
   },
   "source": [
    "In the final task, you will modify your code to obtain Conditional Variational Autoencoder [1]. The idea is very simple: to be able to control the samples you generate, we condition all the distributions on some additional information. In our case, this additional information will be the class label (the digit on the image, from 0 to 9).\n",
    "\n",
    "![](https://github.com/hse-aml/bayesian-methods-for-ml/blob/master/week5/CVAE.png?raw=1)\n",
    "\n",
    "So now both the likelihood and the variational distributions are conditioned on the class label: $p(x \\mid t, \\text{label}, w)$, $q(t \\mid x, \\text{label}, \\phi)$.\n",
    "\n",
    "The only thing you have to change in your code is to concatenate input image $x$ with (one-hot) label of this image to pass into the encoder $q$ and to concatenate latent code $t$ with the same label to pass into the decoder $p$. Note that it's slightly harder to do with convolutional encoder/decoder model.\n",
    "\n",
    "[1] Sohn, Kihyuk, Honglak Lee, and Xinchen Yan. “Learning Structured Output Representation using Deep Conditional Generative Models.” Advances in Neural Information Processing Systems. 2015."
   ]
  },
  {
   "cell_type": "markdown",
   "metadata": {
    "colab_type": "text",
    "id": "o6nvfNt0OnMv"
   },
   "source": [
    "## Final task"
   ]
  },
  {
   "cell_type": "markdown",
   "metadata": {
    "colab_type": "text",
    "id": "Tbk2ICH-OnMw"
   },
   "source": [
    "**Task 5.1** Implement CVAE model. You may reuse ```create_encoder``` and ```create_decoder``` modules defined previously (now you can see why they accept the input size as an argument ;) ). You may also need `concatenate` Keras layer to concatenate labels with input data and latent code.\n",
    "\n",
    "To finish this task, you should go to `Conditionally hallucinate data` section and find there Task 5.2"
   ]
  },
  {
   "cell_type": "code",
   "execution_count": 20,
   "metadata": {
    "colab": {},
    "colab_type": "code",
    "id": "BxgJjuAhOnMw"
   },
   "outputs": [],
   "source": [
    "batch_size = 50\n",
    "original_dim = 784 # Number of pixels in MNIST images.\n",
    "latent_dim = 10 # d, dimensionality of the latent code t.\n",
    "intermediate_dims = [256] # Size of the hidden layer.\n",
    "epochs = 10\n",
    "num_classes = 10\n",
    "\n",
    "# One-hot labels placeholder.\n",
    "x = Input(batch_shape=(batch_size, original_dim))\n",
    "label = Input(batch_shape=(batch_size, num_classes))\n",
    "\n",
    "\n",
    "encoder = create_encoder(original_dim + num_classes)\n",
    "\n",
    "x_l = keras.layers.concatenate([x, label])\n",
    "h = encoder(x_l)\n",
    "cond_t_mean = get_t_mean(h) # Mean of the latent code (without label) for cvae model.\n",
    "cond_t_log_var = get_t_log_var(h) # Logarithm of the variance of the latent code (without label) for cvae model.\n",
    "\n",
    "\n",
    "t = Lambda(sampling)([cond_t_mean, cond_t_log_var])\n",
    "\n",
    "decoder = create_decoder(latent_dim + num_classes)\n",
    "t_l = keras.layers.concatenate([t, label])\n",
    "cond_x_decoded_mean = decoder(t_l) # Final output of the cvae model."
   ]
  },
  {
   "cell_type": "markdown",
   "metadata": {
    "colab_type": "text",
    "id": "I49rDcnrOnMy"
   },
   "source": [
    "## Define the loss and the model"
   ]
  },
  {
   "cell_type": "code",
   "execution_count": 21,
   "metadata": {
    "colab": {},
    "colab_type": "code",
    "id": "Y1NvnF9yOnMz"
   },
   "outputs": [],
   "source": [
    "conditional_loss = vlb_binomial(x, cond_x_decoded_mean, cond_t_mean, cond_t_log_var)\n",
    "cvae = Model([x, label], cond_x_decoded_mean)\n",
    "cvae.compile(optimizer=keras.optimizers.RMSprop(lr=0.001), loss=lambda x, y: conditional_loss)"
   ]
  },
  {
   "cell_type": "markdown",
   "metadata": {
    "colab_type": "text",
    "id": "S9Jy93oNOnM0"
   },
   "source": [
    "### Train the model"
   ]
  },
  {
   "cell_type": "code",
   "execution_count": 22,
   "metadata": {
    "colab": {
     "base_uri": "https://localhost:8080/",
     "height": 382
    },
    "colab_type": "code",
    "id": "Hz9X7fVNOnM0",
    "outputId": "5ad134b4-8701-49f9-83e4-eed9deda60be"
   },
   "outputs": [
    {
     "name": "stdout",
     "output_type": "stream",
     "text": [
      "Train on 60000 samples, validate on 10000 samples\n",
      "Epoch 1/10\n",
      "60000/60000 [==============================] - 6s 98us/step - loss: 144.9563 - val_loss: 126.5200\n",
      "Epoch 2/10\n",
      "60000/60000 [==============================] - 5s 88us/step - loss: 125.1293 - val_loss: 123.2446\n",
      "Epoch 3/10\n",
      "60000/60000 [==============================] - 6s 92us/step - loss: 124.9241 - val_loss: 140.6841\n",
      "Epoch 4/10\n",
      "60000/60000 [==============================] - 6s 93us/step - loss: 127.7568 - val_loss: 128.6846\n",
      "Epoch 5/10\n",
      "60000/60000 [==============================] - 5s 89us/step - loss: 132.5975 - val_loss: 137.5434\n",
      "Epoch 6/10\n",
      "60000/60000 [==============================] - 5s 89us/step - loss: 139.7449 - val_loss: 138.1025\n",
      "Epoch 7/10\n",
      "60000/60000 [==============================] - 5s 90us/step - loss: 148.2177 - val_loss: 139.3463\n",
      "Epoch 8/10\n",
      "60000/60000 [==============================] - 5s 90us/step - loss: 158.1533 - val_loss: 142.4167\n",
      "Epoch 9/10\n",
      "60000/60000 [==============================] - 5s 91us/step - loss: 167.6036 - val_loss: 169.1396\n",
      "Epoch 10/10\n",
      "60000/60000 [==============================] - 6s 92us/step - loss: 178.1854 - val_loss: 151.9659\n"
     ]
    }
   ],
   "source": [
    "hist = cvae.fit(x=[x_train, y_train],\n",
    "                y=x_train,\n",
    "                shuffle=True,\n",
    "                epochs=epochs,\n",
    "                batch_size=batch_size,\n",
    "                validation_data=([x_test, y_test], x_test),\n",
    "                verbose=1)"
   ]
  },
  {
   "cell_type": "markdown",
   "metadata": {
    "colab_type": "text",
    "id": "vweB4rkDOnM5"
   },
   "source": [
    "### Visualize reconstructions for train and validation data"
   ]
  },
  {
   "cell_type": "code",
   "execution_count": 23,
   "metadata": {
    "colab": {
     "base_uri": "https://localhost:8080/",
     "height": 607
    },
    "colab_type": "code",
    "id": "c2KreOnWOnM6",
    "outputId": "fd5a1466-bc68-4b40-fb0d-9a68dbf0c13f"
   },
   "outputs": [
    {
     "data": {
      "image/png": "[encoded data removed]",
      "text/plain": [
       "<Figure size 720x720 with 2 Axes>"
      ]
     },
     "metadata": {
      "needs_background": "light"
     },
     "output_type": "display_data"
    }
   ],
   "source": [
    "fig = plt.figure(figsize=(10, 10))\n",
    "for fid_idx, (x_data, y_data, title) in enumerate(\n",
    "            zip([x_train, x_test], [y_train, y_test], ['Train', 'Validation'])):\n",
    "    n = 10  # figure with 10 x 2 digits\n",
    "    digit_size = 28\n",
    "    figure = np.zeros((digit_size * n, digit_size * 2))\n",
    "    decoded = sess.run(cond_x_decoded_mean,\n",
    "                       feed_dict={x: x_data[:batch_size, :],\n",
    "                                  label: y_data[:batch_size, :]})\n",
    "    for i in range(10):\n",
    "        figure[i * digit_size: (i + 1) * digit_size,\n",
    "               :digit_size] = x_data[i, :].reshape(digit_size, digit_size)\n",
    "        figure[i * digit_size: (i + 1) * digit_size,\n",
    "               digit_size:] = decoded[i, :].reshape(digit_size, digit_size)\n",
    "    ax = fig.add_subplot(1, 2, fid_idx + 1)\n",
    "    ax.imshow(figure, cmap='Greys_r')\n",
    "    ax.set_title(title)\n",
    "    ax.axis('off')\n",
    "plt.show()"
   ]
  },
  {
   "cell_type": "markdown",
   "metadata": {
    "colab_type": "text",
    "id": "qYZ0_FiQOnM8"
   },
   "source": [
    "## Conditionally hallucinate data\n",
    "**Task 5.2** Implement the conditional sampling from the distribution $p(x \\mid t, \\text{label})$ by firstly sampling from the prior $p(t)$ and then sampling from the likelihood $p(x \\mid t, \\text{label})$."
   ]
  },
  {
   "cell_type": "code",
   "execution_count": 24,
   "metadata": {
    "colab": {},
    "colab_type": "code",
    "id": "5f6pIbveOnM-"
   },
   "outputs": [],
   "source": [
    "# Prepare one hot labels of form\n",
    "#   0 0 0 0 0 1 1 1 1 1 2 2 2 2 2 ...\n",
    "# to sample five zeros, five ones, etc\n",
    "curr_labels = np.eye(10)\n",
    "curr_labels = np.repeat(curr_labels, 5, axis=0)  # Its shape is 50 x 10.\n",
    "# YOUR CODE HERE.\n",
    "# ...\n",
    "# cond_sampled_im_mean is a tf.Tensor of size 50 x 784 with 5 random zeros,\n",
    "# then 5 random ones, etc sampled from the cvae model.\n",
    "\n",
    "decoded = sess.run(cond_x_decoded_mean, feed_dict={t: np.random.normal(0, 1, (50, 10)),\n",
    "                                                   label: curr_labels})  # At least 50 samples are needed for the batch size\n",
    "\n",
    "cond_sampled_im_mean = tf.convert_to_tensor(decoded)"
   ]
  },
  {
   "cell_type": "code",
   "execution_count": 25,
   "metadata": {
    "colab": {
     "base_uri": "https://localhost:8080/",
     "height": 595
    },
    "colab_type": "code",
    "id": "S9DKAL2xOnNA",
    "outputId": "712bda9f-a3d4-49d7-90cf-ff62df9ee721"
   },
   "outputs": [
    {
     "data": {
      "image/png": "[encoded data removed]",
      "text/plain": [
       "<Figure size 720x720 with 50 Axes>"
      ]
     },
     "metadata": {
      "needs_background": "light"
     },
     "output_type": "display_data"
    }
   ],
   "source": [
    "cond_sampled_im_mean_np = sess.run(cond_sampled_im_mean)\n",
    "# Show the sampled images.\n",
    "plt.figure(figsize=(10, 10))\n",
    "global_idx = 0\n",
    "for digit in range(10):\n",
    "    for _ in range(5):\n",
    "        ax = plt.subplot(10, 5, global_idx + 1)\n",
    "        plt.imshow(cond_sampled_im_mean_np[global_idx, :].reshape(28, 28), cmap='gray')\n",
    "        ax.axis('off')\n",
    "        global_idx += 1\n",
    "plt.show()"
   ]
  },
  {
   "cell_type": "code",
   "execution_count": 26,
   "metadata": {
    "colab": {
     "base_uri": "https://localhost:8080/",
     "height": 52
    },
    "colab_type": "code",
    "id": "qyz9NleMOnNC",
    "outputId": "ce075fd3-2e26-4e99-c8b3-029363bab469"
   },
   "outputs": [
    {
     "name": "stdout",
     "output_type": "stream",
     "text": [
      "Current answer for task 5.1 (conditional hallucinating mean) is: 0.04078623114917876\n",
      "Current answer for task 5.2 (conditional hallucinating var) is: 0.011597844286211778\n"
     ]
    }
   ],
   "source": [
    "# Submit Task 5 (both 5.1 and 5.2).\n",
    "grader.submit_conditional_hallucinating(sess, cond_sampled_im_mean)"
   ]
  },
  {
   "cell_type": "markdown",
   "metadata": {
    "colab_type": "text",
    "id": "zMoVsQogOnNF"
   },
   "source": [
    "# Authorization & Submission\n",
    "To submit assignment parts to Cousera platform, please, enter your e-mail and token into variables below. You can generate a token on this programming assignment's page. <b>Note:</b> The token expires 30 minutes after generation."
   ]
  },
  {
   "cell_type": "code",
   "execution_count": 27,
   "metadata": {
    "colab": {
     "base_uri": "https://localhost:8080/",
     "height": 173
    },
    "colab_type": "code",
    "id": "Pz5iFHZoOnNG",
    "outputId": "ac57b036-2b41-455c-bea5-119f0fefb754"
   },
   "outputs": [
    {
     "ename": "SyntaxError",
     "evalue": "invalid syntax (<ipython-input-27-2ef1ed67d326>, line 1)",
     "output_type": "error",
     "traceback": [
      "\u001b[0;36m  File \u001b[0;32m\"<ipython-input-27-2ef1ed67d326>\"\u001b[0;36m, line \u001b[0;32m1\u001b[0m\n\u001b[0;31m    STUDENT_EMAIL =\u001b[0m\n\u001b[0m                     ^\u001b[0m\n\u001b[0;31mSyntaxError\u001b[0m\u001b[0;31m:\u001b[0m invalid syntax\n"
     ]
    }
   ],
   "source": [
    "STUDENT_EMAIL =  \n",
    "STUDENT_TOKEN =  \n",
    "grader.status()"
   ]
  },
  {
   "cell_type": "code",
   "execution_count": 45,
   "metadata": {
    "colab": {
     "base_uri": "https://localhost:8080/",
     "height": 34
    },
    "colab_type": "code",
    "id": "dPjLc1JpOnNL",
    "outputId": "f4292f94-f7b5-481d-f73b-aabf372174ea"
   },
   "outputs": [
    {
     "name": "stdout",
     "output_type": "stream",
     "text": [
      "Submitted to Coursera platform. See results on assignment page!\n"
     ]
    }
   ],
   "source": [
    "grader.submit(STUDENT_EMAIL, STUDENT_TOKEN)"
   ]
  },
  {
   "cell_type": "markdown",
   "metadata": {
    "colab_type": "text",
    "id": "0GPFxR6cOnNV"
   },
   "source": [
    "# Playtime (UNGRADED)\n",
    "Once you passed all the tests, modify the code above to work with the mixture of Gaussian distributions (in contrast to the mixture of Binomial distributions), and redo the experiments with CIFAR-10 dataset, which are full-color natural images with much more diverse structure."
   ]
  },
  {
   "cell_type": "code",
   "execution_count": 0,
   "metadata": {
    "colab": {},
    "colab_type": "code",
    "id": "W-Gv4MoqOnNW"
   },
   "outputs": [],
   "source": [
    "from keras.datasets import cifar10\n",
    "(x_train, y_train), (x_test, y_test) = cifar10.load_data()"
   ]
  },
  {
   "cell_type": "code",
   "execution_count": 47,
   "metadata": {
    "colab": {
     "base_uri": "https://localhost:8080/",
     "height": 269
    },
    "colab_type": "code",
    "id": "YlMJkjGcOnNa",
    "outputId": "19fcf196-cf3d-4ef0-d13a-a4a92e16b9dd"
   },
   "outputs": [
    {
     "data": {
      "image/png": "[encoded data removed]",
      "text/plain": [
       "<Figure size 432x288 with 1 Axes>"
      ]
     },
     "metadata": {
      "tags": []
     },
     "output_type": "display_data"
    }
   ],
   "source": [
    "plt.imshow(x_train[7, :])\n",
    "plt.show()"
   ]
  },
  {
   "cell_type": "code",
   "execution_count": 0,
   "metadata": {
    "colab": {},
    "colab_type": "code",
    "id": "q98v82S7OnNd"
   },
   "outputs": [],
   "source": []
  }
 ],
 "metadata": {
  "accelerator": "GPU",
  "colab": {
   "collapsed_sections": [],
   "name": "Copy of Vae_assignment.ipynb",
   "provenance": [],
   "version": "0.3.2"
  },
  "kernelspec": {
   "display_name": "bayes3",
   "language": "python",
   "name": "bayes3"
  },
  "language_info": {
   "codemirror_mode": {
    "name": "ipython",
    "version": 3
   },
   "file_extension": ".py",
   "mimetype": "text/x-python",
   "name": "python",
   "nbconvert_exporter": "python",
   "pygments_lexer": "ipython3",
   "version": "3.7.3"
  }
 },
 "nbformat": 4,
 "nbformat_minor": 1
}
