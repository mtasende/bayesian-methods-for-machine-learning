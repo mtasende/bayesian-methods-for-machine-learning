{
 "cells": [
  {
   "cell_type": "markdown",
   "metadata": {
    "colab_type": "text",
    "id": "jlo4V6MRBEDQ"
   },
   "source": [
    "# First things first\n",
    "Click **File -> Save a copy in Drive** and click **Open in new tab** in the pop-up window to save your progress in Google Drive."
   ]
  },
  {
   "cell_type": "markdown",
   "metadata": {
    "colab_type": "text",
    "id": "WMlNHfVxBEDT"
   },
   "source": [
    "# Expectation-maximization algorithm"
   ]
  },
  {
   "cell_type": "markdown",
   "metadata": {
    "colab_type": "text",
    "id": "icS4MsxIBEDU"
   },
   "source": [
    "In this assignment, we will derive and implement formulas for Gaussian Mixture Model — one of the most commonly used methods for performing soft clustering of the data. "
   ]
  },
  {
   "cell_type": "markdown",
   "metadata": {
    "colab_type": "text",
    "id": "jequoJfSBEDV"
   },
   "source": [
    "### Setup\n",
    "Loading auxiliary files and importing the necessary libraries."
   ]
  },
  {
   "cell_type": "code",
   "execution_count": 1,
   "metadata": {
    "colab": {
     "base_uri": "https://localhost:8080/",
     "height": 260
    },
    "colab_type": "code",
    "id": "ZqZo-y9UBEDX",
    "outputId": "04225e81-0f22-4538-d0c4-afaa1598000a"
   },
   "outputs": [
    {
     "data": {
      "text/plain": [
       "'\\ntry:\\n    import google.colab\\n    IN_COLAB = True\\nexcept:\\n    IN_COLAB = False\\nif IN_COLAB:\\n    print(\"Downloading Colab files\")\\n    ! shred -u setup_google_colab.py\\n    ! wget https://raw.githubusercontent.com/hse-aml/bayesian-methods-for-ml/master/setup_google_colab.py -O setup_google_colab.py\\n    import setup_google_colab\\n    setup_google_colab.load_data_week2()\\n'"
      ]
     },
     "execution_count": 1,
     "metadata": {},
     "output_type": "execute_result"
    }
   ],
   "source": [
    "# Uncomment to run in Colab\n",
    "\"\"\"\n",
    "try:\n",
    "    import google.colab\n",
    "    IN_COLAB = True\n",
    "except:\n",
    "    IN_COLAB = False\n",
    "if IN_COLAB:\n",
    "    print(\"Downloading Colab files\")\n",
    "    ! shred -u setup_google_colab.py\n",
    "    ! wget https://raw.githubusercontent.com/hse-aml/bayesian-methods-for-ml/master/setup_google_colab.py -O setup_google_colab.py\n",
    "    import setup_google_colab\n",
    "    setup_google_colab.load_data_week2()\n",
    "\"\"\""
   ]
  },
  {
   "cell_type": "code",
   "execution_count": 3,
   "metadata": {
    "colab": {},
    "colab_type": "code",
    "id": "urylZcbeBEDc"
   },
   "outputs": [],
   "source": [
    "import numpy as np\n",
    "from numpy.linalg import slogdet, det, solve\n",
    "import matplotlib.pyplot as plt\n",
    "import time\n",
    "from sklearn.datasets import load_digits\n",
    "from w2_grader import EMGrader\n",
    "%matplotlib inline"
   ]
  },
  {
   "cell_type": "code",
   "execution_count": 4,
   "metadata": {
    "colab": {},
    "colab_type": "code",
    "id": "uwRWAzu0gJJt"
   },
   "outputs": [],
   "source": [
    "import matplotlib.cm as cm"
   ]
  },
  {
   "cell_type": "markdown",
   "metadata": {
    "colab_type": "text",
    "id": "tP8l9frZBEDf"
   },
   "source": [
    "### Grading\n",
    "We will create a grader instance below and use it to collect your answers. Note that these outputs will be stored locally inside grader and will be uploaded to the platform only after running submitting function in the last part of this assignment. If you want to make a partial submission, you can run that cell anytime you want."
   ]
  },
  {
   "cell_type": "code",
   "execution_count": 5,
   "metadata": {
    "colab": {},
    "colab_type": "code",
    "id": "7Gvy3EOvBEDg"
   },
   "outputs": [],
   "source": [
    "grader = EMGrader()"
   ]
  },
  {
   "cell_type": "markdown",
   "metadata": {
    "colab_type": "text",
    "id": "dL3A2sntBEDj"
   },
   "source": [
    "## Implementing EM for GMM"
   ]
  },
  {
   "cell_type": "markdown",
   "metadata": {
    "colab_type": "text",
    "id": "0xPS_VdpBEDk"
   },
   "source": [
    "For debugging, we will use samples from a Gaussian mixture model with unknown mean, variance, and priors. We also added initial values of parameters for grading purposes."
   ]
  },
  {
   "cell_type": "code",
   "execution_count": 6,
   "metadata": {
    "colab": {
     "base_uri": "https://localhost:8080/",
     "height": 269
    },
    "colab_type": "code",
    "id": "g9_aOn94BEDl",
    "outputId": "ef5394bc-9e50-4ec3-ac8b-98eca1d47258"
   },
   "outputs": [
    {
     "data": {
      "image/png": "[encoded data removed]",
      "text/plain": [
       "<Figure size 432x288 with 1 Axes>"
      ]
     },
     "metadata": {
      "needs_background": "light"
     },
     "output_type": "display_data"
    }
   ],
   "source": [
    "samples = np.load('samples.npz')\n",
    "X = samples['data']\n",
    "pi0 = samples['pi0']\n",
    "mu0 = samples['mu0']\n",
    "sigma0 = samples['sigma0']\n",
    "plt.scatter(X[:, 0], X[:, 1], c='grey', s=30)\n",
    "plt.axis('equal')\n",
    "plt.show()"
   ]
  },
  {
   "cell_type": "markdown",
   "metadata": {
    "colab_type": "text",
    "id": "AmgeHTCfBEDp"
   },
   "source": [
    "### Reminder"
   ]
  },
  {
   "cell_type": "markdown",
   "metadata": {
    "colab_type": "text",
    "id": "RgAwWi1nBEDq"
   },
   "source": [
    "Remember, that EM algorithm is a coordinate descent optimization of variational lower bound $\\mathcal{L}(\\theta, q) = \\int q(T) \\log\\frac{p(X, T|\\theta)}{q(T)}dT\\to \\max$.\n",
    "\n",
    "<b>E-step</b>:<br>\n",
    "$\\mathcal{L}(\\theta, q) \\to \\max\\limits_{q} \\Leftrightarrow \\mathcal{KL} [q(T) \\,\\|\\, p(T|X, \\theta)] \\to \\min \\limits_{q\\in Q} \\Rightarrow q(T) = p(T|X, \\theta)$<br>\n",
    "<b>M-step</b>:<br> \n",
    "$\\mathcal{L}(\\theta, q) \\to \\max\\limits_{\\theta} \\Leftrightarrow \\mathbb{E}_{q(T)}\\log p(X,T | \\theta) \\to \\max\\limits_{\\theta}$\n",
    "\n",
    "For GMM, $\\theta$ is a set of parameters that consists of mean vectors $\\mu_c$, covariance matrices $\\Sigma_c$ and priors $\\pi_c$ for each component.\n",
    "\n",
    "Latent variables $T$ are indices of components to which each data point is assigned, i.e. $t_i$  is the cluster index for object $x_i$.\n",
    "\n",
    "The joint distribution can be written as follows: $\\log p(T, X \\mid \\theta) =  \\sum\\limits_{i=1}^N \\log p(t_i, x_i \\mid \\theta) = \\sum\\limits_{i=1}^N \\sum\\limits_{c=1}^C q(t_i = c) \\log \\left (\\pi_c \\, f_{\\!\\mathcal{N}}(x_i \\mid \\mu_c, \\Sigma_c)\\right)$,\n",
    "where $f_{\\!\\mathcal{N}}(x \\mid \\mu_c, \\Sigma_c) = \\frac{1}{\\sqrt{(2\\pi)^n|\\boldsymbol\\Sigma_c|}}\n",
    "\\exp\\left(-\\frac{1}{2}({x}-{\\mu_c})^T{\\boldsymbol\\Sigma_c}^{-1}({x}-{\\mu_c})\n",
    "\\right)$ is the probability density function (pdf) of the normal distribution $\\mathcal{N}(x_i \\mid \\mu_c, \\Sigma_c)$."
   ]
  },
  {
   "cell_type": "markdown",
   "metadata": {
    "colab_type": "text",
    "id": "ELmi1nAtBEDr"
   },
   "source": [
    "### E-step\n",
    "In this step we need to estimate the posterior distribution over the latent variables with fixed values of parameters: $q_i(t_i) = p(t_i \\mid x_i, \\theta)$. We assume that $t_i$ equals to the cluster index of the true component of the $x_i$ object. To do so we need to compute $\\gamma_{ic} = p(t_i = c \\mid x_i, \\theta)$. Note that $\\sum\\limits_{c=1}^C\\gamma_{ic}=1$.\n"
   ]
  },
  {
   "cell_type": "markdown",
   "metadata": {
    "colab_type": "text",
    "id": "53FR1RJ9BEDs"
   },
   "source": [
    "<b>Important trick 1:</b> It is important to avoid numerical errors. At some point you will have to compute the formula of the following form: $\\frac{e^{y_i}}{\\sum_j e^{y_j}}$, which is called _softmax_. When you compute exponents of large numbers, some numbers may become infinity. You can avoid this by dividing numerator and denominator by $e^{\\max(y)}$: $\\frac{e^{y_i-\\max(y)}}{\\sum_j e^{y_j - \\max(y)}}$. After this transformation maximum value in the denominator will be equal to one. All other terms will contribute smaller values. So, to compute desired formula you first subtract maximum value from each component in vector $\\mathbf{y}$ and then compute everything else as before.\n",
    "\n",
    "<b>Important trick 2:</b> You will probably need to compute formula of the form $A^{-1}x$ at some point. You would normally inverse $A$ and then multiply it by $x$. A bit faster and more numerically accurate way to do this is to directly solve equation $Ay = x$ by using a special function. Its solution is $y=A^{-1}x$, but the equation $Ay = x$ can be solved by methods which do not explicitely invert the matrix. You can use ```np.linalg.solve``` for this.\n",
    "\n",
    "<b>Other usefull functions: </b> <a href=\"https://docs.scipy.org/doc/numpy/reference/generated/numpy.linalg.slogdet.html\">```slogdet```</a> and <a href=\"https://docs.scipy.org/doc/numpy/reference/generated/numpy.linalg.det.html#numpy.linalg.det\">```det```</a>"
   ]
  },
  {
   "cell_type": "markdown",
   "metadata": {
    "colab_type": "text",
    "id": "KL87Q8-TBEDu"
   },
   "source": [
    "<b>Task 1:</b> Implement E-step for GMM using template below."
   ]
  },
  {
   "cell_type": "code",
   "execution_count": 7,
   "metadata": {
    "colab": {},
    "colab_type": "code",
    "id": "wCUCaD28BEDw"
   },
   "outputs": [],
   "source": [
    "def E_step(X, pi, mu, sigma):\n",
    "    \"\"\"\n",
    "    Performs E-step on GMM model\n",
    "    Each input is numpy array:\n",
    "    X: (N x d), data points\n",
    "    pi: (C), mixture component weights \n",
    "    mu: (C x d), mixture component means\n",
    "    sigma: (C x d x d), mixture component covariance matrices\n",
    "    \n",
    "    Returns:\n",
    "    gamma: (N x C), probabilities of clusters for objects\n",
    "    \"\"\"\n",
    "    N = X.shape[0] # number of objects\n",
    "    C = pi.shape[0] # number of clusters\n",
    "    d = mu.shape[1] # dimension of each object\n",
    "    gamma = np.zeros((N, C)) # distribution q(T)\n",
    "\n",
    "    ### YOUR CODE HERE\n",
    "    exponents = list()\n",
    "    const = list()\n",
    "    for c in range(C):\n",
    "      # Calculate the exponent in the Gaussian\n",
    "      y = np.linalg.solve(sigma[c], (X - mu[c]).T)\n",
    "      exponents.append(np.sum((-1/2.0)* (X - mu[c]) * y.T, axis=1))\n",
    "      \n",
    "      # Calculate the multiplying constant\n",
    "      sign, logdet = np.linalg.slogdet(2 * np.pi * sigma[c])\n",
    "      const.append(np.exp(logdet))\n",
    "      \n",
    "    const = np.array(const)\n",
    "    const = 1 / np.sqrt(const)\n",
    "    exponents = np.vstack(exponents).T\n",
    "    exponents = exponents - np.max(exponents, axis=1).reshape(-1, 1)\n",
    "    num = (np.exp(exponents) * const) * pi\n",
    "    gamma = num / num.sum(axis=1).reshape(-1, 1)\n",
    "\n",
    "    return gamma"
   ]
  },
  {
   "cell_type": "code",
   "execution_count": 8,
   "metadata": {
    "colab": {
     "base_uri": "https://localhost:8080/",
     "height": 34
    },
    "colab_type": "code",
    "id": "xlhktOlMBED1",
    "outputId": "4de61fee-e029-4523-fe55-02797333fd44"
   },
   "outputs": [
    {
     "name": "stdout",
     "output_type": "stream",
     "text": [
      "Current answer for task Task 1 (E-step) is: 0.5337178741081265\n"
     ]
    }
   ],
   "source": [
    "gamma = E_step(X, pi0, mu0, sigma0)\n",
    "grader.submit_e_step(gamma)"
   ]
  },
  {
   "cell_type": "markdown",
   "metadata": {
    "colab_type": "text",
    "id": "fERrQWSCBED5"
   },
   "source": [
    "### M-step\n",
    "\n",
    "In M-step we need to maximize $\\mathbb{E}_{q(T)}\\log p(X,T | \\theta)$ with respect to $\\theta$. In our model this means that we need to find optimal values of $\\pi$, $\\mu$, $\\Sigma$. To do so, you need to compute the derivatives and \n",
    "set them to zero. You should start by deriving formulas for $\\mu$ as it is the easiest part. Then move on to $\\Sigma$. Here it is crucial to optimize function w.r.t. to $\\Lambda = \\Sigma^{-1}$ and then inverse obtained result. Finaly, to compute $\\pi$, you will need <a href=\"https://www3.nd.edu/~jstiver/FIN360/Constrained%20Optimization.pdf\">Lagrange Multipliers technique</a> to satisfy constraint $\\sum\\limits_{i=1}^{n}\\pi_i = 1$.\n",
    "\n",
    "<br>\n",
    "<b>Important note:</b> You will need to compute derivatives of scalars with respect to matrices. To refresh this technique from previous courses, see <a href=\"https://en.wikipedia.org/wiki/Matrix_calculus\"> wiki article</a> about it . Main formulas of matrix derivatives can be found in <a href=\"http://www2.imm.dtu.dk/pubdb/views/edoc_download.php/3274/pdf/imm3274.pdf\">Chapter 2 of The Matrix Cookbook</a>. For example, there you may find that $\\frac{\\partial}{\\partial A}\\log |A| = A^{-T}$.\n"
   ]
  },
  {
   "cell_type": "markdown",
   "metadata": {
    "colab_type": "text",
    "id": "A31OYSogBED6"
   },
   "source": [
    "<b>Task 2:</b> Implement M-step for GMM using template below."
   ]
  },
  {
   "cell_type": "code",
   "execution_count": 9,
   "metadata": {
    "colab": {},
    "colab_type": "code",
    "id": "mhOr5I1bBED7"
   },
   "outputs": [],
   "source": [
    "def M_step(X, gamma):\n",
    "    \"\"\"\n",
    "    Performs M-step on GMM model\n",
    "    Each input is numpy array:\n",
    "    X: (N x d), data points\n",
    "    gamma: (N x C), distribution q(T)  \n",
    "    \n",
    "    Returns:\n",
    "    pi: (C)\n",
    "    mu: (C x d)\n",
    "    sigma: (C x d x d)\n",
    "    \"\"\"\n",
    "    N = X.shape[0] # number of objects\n",
    "    C = gamma.shape[1] # number of clusters\n",
    "    d = X.shape[1] # dimension of each object\n",
    "\n",
    "    ### YOUR CODE HERE\n",
    "    nc = gamma.sum(axis=0)\n",
    "    pi_new = nc / X.shape[0]\n",
    "    mu_new = ((X.T.dot(gamma)) / nc).T\n",
    "    sigma_new = np.zeros((C, d, d))\n",
    "    for c in range(C):\n",
    "      sigma_new[c, :, :] = ((X - mu_new[c]).T.dot((X - mu_new[c]) * gamma[:, c].reshape(-1, 1))) / nc[c]\n",
    "    \n",
    "\n",
    "    return pi_new, mu_new, sigma_new"
   ]
  },
  {
   "cell_type": "code",
   "execution_count": 10,
   "metadata": {
    "colab": {
     "base_uri": "https://localhost:8080/",
     "height": 69
    },
    "colab_type": "code",
    "id": "6i5cv65SBED-",
    "outputId": "0210b29e-9711-4368-fe09-e6b617f3ccf7"
   },
   "outputs": [
    {
     "name": "stdout",
     "output_type": "stream",
     "text": [
      "Current answer for task Task 2 (M-step: mu) is: 2.899391882050382\n",
      "Current answer for task Task 2 (M-step: sigma) is: 5.977105216897527\n",
      "Current answer for task Task 2 (M-step: pi) is: 0.5507624459218777\n"
     ]
    }
   ],
   "source": [
    "gamma = E_step(X, pi0, mu0, sigma0)\n",
    "pi, mu, sigma = M_step(X, gamma)\n",
    "grader.submit_m_step(pi, mu, sigma)"
   ]
  },
  {
   "cell_type": "markdown",
   "metadata": {
    "colab_type": "text",
    "id": "svyzjt7XBEEC"
   },
   "source": [
    "### Loss function"
   ]
  },
  {
   "cell_type": "markdown",
   "metadata": {
    "colab_type": "text",
    "id": "qexOXBLUBEED"
   },
   "source": [
    "Finally, we need some function to track convergence. We will use variational lower bound $\\mathcal{L}$ for this purpose. We will stop our EM iterations when $\\mathcal{L}$ will saturate. Usually, you will need only about 10-20 iterations to converge. It is also useful to check that this function never decreases during training. If it does, you have a bug in your code.\n",
    "\n",
    "<b>Task 3:</b> Implement a function that will compute $\\mathcal{L}$ using template below.\n",
    "\n",
    "$$\\mathcal{L} = \\sum_{i=1}^{N} \\sum_{c=1}^{C} q(t_i =c) (\\log \\pi_c + \\log f_{\\!\\mathcal{N}}(x_i \\mid \\mu_c, \\Sigma_c)) - \\sum_{i=1}^{N} \\sum_{c=1}^{K} q(t_i =c) \\log q(t_i =c)$$"
   ]
  },
  {
   "cell_type": "code",
   "execution_count": 11,
   "metadata": {
    "colab": {},
    "colab_type": "code",
    "id": "B5tKCZe0BEEE"
   },
   "outputs": [],
   "source": [
    "def compute_vlb(X, pi, mu, sigma, gamma):\n",
    "    \"\"\"\n",
    "    Each input is numpy array:\n",
    "    X: (N x d), data points\n",
    "    gamma: (N x C), distribution q(T)  \n",
    "    pi: (C)\n",
    "    mu: (C x d)\n",
    "    sigma: (C x d x d)\n",
    "    \n",
    "    Returns value of variational lower bound\n",
    "    \"\"\"\n",
    "    N = X.shape[0] # number of objects\n",
    "    C = gamma.shape[1] # number of clusters\n",
    "    d = X.shape[1] # dimension of each object\n",
    "\n",
    "    ### YOUR CODE HERE\n",
    "    exponents = list()\n",
    "    const = list()\n",
    "    for c in range(C):\n",
    "      # Calculate the exponent in the Gaussian\n",
    "      y = np.linalg.solve(sigma[c], (X - mu[c]).T)\n",
    "      exponents.append(np.sum((-1/2.0)* (X - mu[c]) * y.T, axis=1))\n",
    "      \n",
    "      # Calculate the multiplying constant\n",
    "      sign, logdet = np.linalg.slogdet(2 * np.pi * sigma[c])\n",
    "      const.append(np.exp(logdet))\n",
    "      \n",
    "    const = np.array(const)\n",
    "    const = 1 / np.sqrt(const)\n",
    "    exponents = np.vstack(exponents).T\n",
    "    num = (np.exp(exponents) * const) * pi\n",
    "    \n",
    "    s1 = ((exponents + np.log(const) + np.log(pi)) * gamma).sum()\n",
    "    s2 = (gamma * np.log(gamma)).sum()\n",
    "    \n",
    "    loss = s1 - s2\n",
    "\n",
    "    return loss"
   ]
  },
  {
   "cell_type": "code",
   "execution_count": 12,
   "metadata": {
    "colab": {
     "base_uri": "https://localhost:8080/",
     "height": 34
    },
    "colab_type": "code",
    "id": "xNva3XRTBEEI",
    "outputId": "68386ccd-05cb-42f4-c8c5-3e224088f5d0"
   },
   "outputs": [
    {
     "name": "stdout",
     "output_type": "stream",
     "text": [
      "Current answer for task Task 3 (VLB) is: -1213.9734643060183\n"
     ]
    }
   ],
   "source": [
    "pi, mu, sigma = pi0, mu0, sigma0\n",
    "gamma = E_step(X, pi, mu, sigma)\n",
    "pi, mu, sigma = M_step(X, gamma)\n",
    "loss = compute_vlb(X, pi, mu, sigma, gamma)\n",
    "grader.submit_VLB(loss)"
   ]
  },
  {
   "cell_type": "markdown",
   "metadata": {
    "colab_type": "text",
    "id": "I5p8XC-eBEEM"
   },
   "source": [
    "### Bringing it all together"
   ]
  },
  {
   "cell_type": "markdown",
   "metadata": {
    "colab_type": "text",
    "id": "cQsdsNVCBEEU"
   },
   "source": [
    "Now that we have E step, M step and VLB, we can implement the training loop. We will initialize values of $\\pi$, $\\mu$ and $\\Sigma$ to some random numbers, train until $\\mathcal{L}$ stops changing, and return the resulting points. We also know that the EM algorithm converges to local optima. To find a better local optima, we will restart the algorithm multiple times from different (random) starting positions. Each training trial should stop either when maximum number of iterations is reached or when relative improvement is smaller than given tolerance ($|\\frac{\\mathcal{L}_i-\\mathcal{L}_{i-1}}{\\mathcal{L}_{i-1}}| \\le \\text{rtol}$).\n",
    "\n",
    "Remember, that initial (random) values of $\\pi$ that you generate must be non-negative and sum up to 1. Also, $\\Sigma$ matrices must be symmetric and positive semi-definite. If you don't know how to generate those matrices, you can use $\\Sigma=I$ as initialization.\n",
    "\n",
    "You will also sometimes get numerical errors because of component collapsing. The easiest way to deal with this problems is to restart the procedure.\n",
    "\n",
    "<b>Task 4:</b> Implement training procedure"
   ]
  },
  {
   "cell_type": "code",
   "execution_count": 13,
   "metadata": {
    "colab": {},
    "colab_type": "code",
    "id": "Q1AAcyl0BEEW"
   },
   "outputs": [],
   "source": [
    "def train_EM(X, C, rtol=1e-3, max_iter=100, restarts=10):\n",
    "    '''\n",
    "    Starts with random initialization *restarts* times\n",
    "    Runs optimization until saturation with *rtol* reached\n",
    "    or *max_iter* iterations were made.\n",
    "    \n",
    "    X: (N, d), data points\n",
    "    C: int, number of clusters\n",
    "    '''\n",
    "    N = X.shape[0] # number of objects\n",
    "    d = X.shape[1] # dimension of each object\n",
    "    best_loss = None\n",
    "    best_pi = None\n",
    "    best_mu = None\n",
    "    best_sigma = None\n",
    "\n",
    "    for _ in range(restarts):\n",
    "        try:\n",
    "            ### YOUR CODE HERE\n",
    "            # Initialize the parameters\n",
    "            pi = np.random.rand(C)\n",
    "            pi = pi / pi.sum()\n",
    "            \n",
    "            m = X.min(axis=0)\n",
    "            M = X.max(axis=0)\n",
    "            mu_coef = np.random.rand(C, d)\n",
    "            mu = m + (M - m) * mu_coef\n",
    "            \n",
    "            sigma = np.tile(np.eye(d), (C, 1, 1))\n",
    "            \n",
    "            #gamma = np.ones((N, C))*pi\n",
    "            print('first e step')\n",
    "            gamma = E_step(X, pi, mu, sigma)\n",
    "            print('first vlb computation')\n",
    "            loss_prev = compute_vlb(X, pi, mu, sigma, gamma)\n",
    "            if best_loss is None:\n",
    "              best_loss = loss_prev\n",
    "              best_pi = pi\n",
    "              best_mu = mu\n",
    "              best_sigma = sigma\n",
    "            \n",
    "            print('Iteration starts...')\n",
    "            # Iterate\n",
    "            while True:\n",
    "              gamma = E_step(X, pi, mu, sigma)\n",
    "              pi, mu, sigma = M_step(X, gamma)\n",
    "              loss = compute_vlb(X, pi, mu, sigma, gamma)\n",
    "              \n",
    "              print('Prev Loss: {}, Loss: {} -- Best loss: {}'.format(loss_prev, loss, best_loss))\n",
    "              if loss > best_loss:\n",
    "                best_loss = loss_prev\n",
    "                best_pi = pi\n",
    "                best_mu = mu\n",
    "                best_sigma = sigma\n",
    "                \n",
    "              if np.isnan(loss):\n",
    "                break\n",
    "              if np.abs((loss - loss_prev) / loss_prev) <= rtol:\n",
    "                break\n",
    "              loss_prev = loss\n",
    "\n",
    "        except np.linalg.LinAlgError:\n",
    "            print(\"Singular matrix: components collapsed\")\n",
    "            pass\n",
    "\n",
    "    return best_loss, best_pi, best_mu, best_sigma"
   ]
  },
  {
   "cell_type": "code",
   "execution_count": 14,
   "metadata": {
    "colab": {
     "base_uri": "https://localhost:8080/",
     "height": 1000
    },
    "colab_type": "code",
    "id": "0f8A5sbmBEEZ",
    "outputId": "233ada29-7407-4549-fe6f-6ebb74cbe6de"
   },
   "outputs": [
    {
     "name": "stdout",
     "output_type": "stream",
     "text": [
      "first e step\n",
      "first vlb computation\n",
      "Iteration starts...\n",
      "Prev Loss: -2566.741805767717, Loss: -1158.4626464307646 -- Best loss: -2566.741805767717\n",
      "Prev Loss: -1158.4626464307646, Loss: -1124.7123149262477 -- Best loss: -2566.741805767717\n",
      "Prev Loss: -1124.7123149262477, Loss: -1118.8547272579885 -- Best loss: -1158.4626464307646\n",
      "Prev Loss: -1118.8547272579885, Loss: -1117.2162725403448 -- Best loss: -1124.7123149262477\n",
      "Prev Loss: -1117.2162725403448, Loss: -1116.1178351104124 -- Best loss: -1118.8547272579885\n",
      "first e step\n",
      "first vlb computation\n",
      "Iteration starts...\n",
      "Prev Loss: -2114.9161892204947, Loss: -1144.1338755310753 -- Best loss: -1117.2162725403448\n",
      "Prev Loss: -1144.1338755310753, Loss: -1131.9014916118956 -- Best loss: -1117.2162725403448\n",
      "Prev Loss: -1131.9014916118956, Loss: -1128.3700340109478 -- Best loss: -1117.2162725403448\n",
      "Prev Loss: -1128.3700340109478, Loss: -1126.0976943241592 -- Best loss: -1117.2162725403448\n",
      "Prev Loss: -1126.0976943241592, Loss: -1124.1791353617768 -- Best loss: -1117.2162725403448\n",
      "Prev Loss: -1124.1791353617768, Loss: -1122.3541160407167 -- Best loss: -1117.2162725403448\n",
      "Prev Loss: -1122.3541160407167, Loss: -1120.5370075564354 -- Best loss: -1117.2162725403448\n",
      "Prev Loss: -1120.5370075564354, Loss: -1118.6970484707608 -- Best loss: -1117.2162725403448\n",
      "Prev Loss: -1118.6970484707608, Loss: -1116.8184489867438 -- Best loss: -1117.2162725403448\n",
      "Prev Loss: -1116.8184489867438, Loss: -1114.886403224763 -- Best loss: -1118.6970484707608\n",
      "Prev Loss: -1114.886403224763, Loss: -1112.8845119773534 -- Best loss: -1116.8184489867438\n",
      "Prev Loss: -1112.8845119773534, Loss: -1110.7988360307415 -- Best loss: -1114.886403224763\n",
      "Prev Loss: -1110.7988360307415, Loss: -1108.6226215744834 -- Best loss: -1112.8845119773534\n",
      "Prev Loss: -1108.6226215744834, Loss: -1106.3489528392395 -- Best loss: -1110.7988360307415\n",
      "Prev Loss: -1106.3489528392395, Loss: -1103.9351406141054 -- Best loss: -1108.6226215744834\n",
      "Prev Loss: -1103.9351406141054, Loss: -1101.2191079404251 -- Best loss: -1106.3489528392395\n",
      "Prev Loss: -1101.2191079404251, Loss: -1097.7627760424689 -- Best loss: -1103.9351406141054\n",
      "Prev Loss: -1097.7627760424689, Loss: -1092.9480217657417 -- Best loss: -1101.2191079404251\n",
      "Prev Loss: -1092.9480217657417, Loss: -1086.6212415465245 -- Best loss: -1097.7627760424689\n",
      "Prev Loss: -1086.6212415465245, Loss: -1080.077856566248 -- Best loss: -1092.9480217657417\n",
      "Prev Loss: -1080.077856566248, Loss: -1075.4086873508263 -- Best loss: -1086.6212415465245\n",
      "Prev Loss: -1075.4086873508263, Loss: -1072.1205332282645 -- Best loss: -1080.077856566248\n",
      "Prev Loss: -1072.1205332282645, Loss: -1069.3643530654233 -- Best loss: -1075.4086873508263\n",
      "Prev Loss: -1069.3643530654233, Loss: -1067.0312144762015 -- Best loss: -1072.1205332282645\n",
      "Prev Loss: -1067.0312144762015, Loss: -1065.3696153196997 -- Best loss: -1069.3643530654233\n",
      "Prev Loss: -1065.3696153196997, Loss: -1064.476193689675 -- Best loss: -1067.0312144762015\n",
      "first e step\n",
      "first vlb computation\n",
      "Iteration starts...\n",
      "Prev Loss: -2228.3738936290188, Loss: -1117.2952209529644 -- Best loss: -1065.3696153196997\n",
      "Prev Loss: -1117.2952209529644, Loss: -1095.9697593843237 -- Best loss: -1065.3696153196997\n",
      "Prev Loss: -1095.9697593843237, Loss: -1078.606539125737 -- Best loss: -1065.3696153196997\n",
      "Prev Loss: -1078.606539125737, Loss: -1069.5085026007996 -- Best loss: -1065.3696153196997\n",
      "Prev Loss: -1069.5085026007996, Loss: -1066.7759587008738 -- Best loss: -1065.3696153196997\n",
      "Prev Loss: -1066.7759587008738, Loss: -1065.3861487820539 -- Best loss: -1065.3696153196997\n",
      "Prev Loss: -1065.3861487820539, Loss: -1064.4567303291983 -- Best loss: -1065.3696153196997\n",
      "first e step\n",
      "first vlb computation\n",
      "Iteration starts...\n",
      "Prev Loss: -1799.7086604336494, Loss: -1201.7343395517298 -- Best loss: -1065.3861487820539\n",
      "Prev Loss: -1201.7343395517298, Loss: -1159.5047506954159 -- Best loss: -1065.3861487820539\n",
      "Prev Loss: -1159.5047506954159, Loss: -1146.733346730758 -- Best loss: -1065.3861487820539\n",
      "Prev Loss: -1146.733346730758, Loss: -1139.2460755766197 -- Best loss: -1065.3861487820539\n",
      "Prev Loss: -1139.2460755766197, Loss: -1132.8581697117054 -- Best loss: -1065.3861487820539\n",
      "Prev Loss: -1132.8581697117054, Loss: -1126.740963726429 -- Best loss: -1065.3861487820539\n",
      "Prev Loss: -1126.740963726429, Loss: -1120.9630224484943 -- Best loss: -1065.3861487820539\n",
      "Prev Loss: -1120.9630224484943, Loss: -1115.604585458838 -- Best loss: -1065.3861487820539\n",
      "Prev Loss: -1115.604585458838, Loss: -1110.651506345736 -- Best loss: -1065.3861487820539\n",
      "Prev Loss: -1110.651506345736, Loss: -1106.1652940938225 -- Best loss: -1065.3861487820539\n",
      "Prev Loss: -1106.1652940938225, Loss: -1102.329314894928 -- Best loss: -1065.3861487820539\n",
      "Prev Loss: -1102.329314894928, Loss: -1099.305809562786 -- Best loss: -1065.3861487820539\n",
      "Prev Loss: -1099.305809562786, Loss: -1096.9081059970126 -- Best loss: -1065.3861487820539\n",
      "Prev Loss: -1096.9081059970126, Loss: -1094.6969081738878 -- Best loss: -1065.3861487820539\n",
      "Prev Loss: -1094.6969081738878, Loss: -1092.208128752928 -- Best loss: -1065.3861487820539\n",
      "Prev Loss: -1092.208128752928, Loss: -1088.8945140195708 -- Best loss: -1065.3861487820539\n",
      "Prev Loss: -1088.8945140195708, Loss: -1084.3664619169808 -- Best loss: -1065.3861487820539\n",
      "Prev Loss: -1084.3664619169808, Loss: -1079.103596983941 -- Best loss: -1065.3861487820539\n",
      "Prev Loss: -1079.103596983941, Loss: -1071.9003640812446 -- Best loss: -1065.3861487820539\n",
      "Prev Loss: -1071.9003640812446, Loss: -1064.8155434537412 -- Best loss: -1065.3861487820539\n",
      "Prev Loss: -1064.8155434537412, Loss: -1063.9987987378615 -- Best loss: -1071.9003640812446\n",
      "first e step\n",
      "first vlb computation\n",
      "Iteration starts...\n",
      "Prev Loss: -2441.064510981466, Loss: -1125.5099709178055 -- Best loss: -1064.8155434537412\n",
      "Prev Loss: -1125.5099709178055, Loss: -1122.971195188095 -- Best loss: -1064.8155434537412\n",
      "Prev Loss: -1122.971195188095, Loss: nan -- Best loss: -1064.8155434537412\n",
      "first e step\n",
      "first vlb computation\n",
      "Iteration starts...\n",
      "Prev Loss: -4406.541216753008, Loss: -1228.4682183536438 -- Best loss: -1064.8155434537412\n",
      "Prev Loss: -1228.4682183536438, Loss: -1194.2149243601748 -- Best loss: -1064.8155434537412\n",
      "Prev Loss: -1194.2149243601748, Loss: -1166.4508471149459 -- Best loss: -1064.8155434537412\n",
      "Prev Loss: -1166.4508471149459, Loss: -1143.871891386305 -- Best loss: -1064.8155434537412\n",
      "Prev Loss: -1143.871891386305, Loss: -1124.8628023559424 -- Best loss: -1064.8155434537412\n",
      "Prev Loss: -1124.8628023559424, Loss: -1100.8524076442466 -- Best loss: -1064.8155434537412\n",
      "Prev Loss: -1100.8524076442466, Loss: -1077.6438425918018 -- Best loss: -1064.8155434537412\n",
      "Prev Loss: -1077.6438425918018, Loss: -1072.039476210521 -- Best loss: -1064.8155434537412\n",
      "Prev Loss: -1072.039476210521, Loss: -1069.0206839876766 -- Best loss: -1064.8155434537412\n",
      "Prev Loss: -1069.0206839876766, Loss: -1066.3138231731261 -- Best loss: -1064.8155434537412\n",
      "Prev Loss: -1066.3138231731261, Loss: -1064.5531084674644 -- Best loss: -1064.8155434537412\n",
      "Prev Loss: -1064.5531084674644, Loss: -1064.044843644348 -- Best loss: -1066.3138231731261\n",
      "first e step\n",
      "first vlb computation\n",
      "Iteration starts...\n",
      "Prev Loss: -3456.1601618772165, Loss: -1193.920030701238 -- Best loss: -1064.5531084674644\n",
      "Prev Loss: -1193.920030701238, Loss: -1179.2197575737966 -- Best loss: -1064.5531084674644\n",
      "Prev Loss: -1179.2197575737966, Loss: -1170.657463241299 -- Best loss: -1064.5531084674644\n",
      "Prev Loss: -1170.657463241299, Loss: -1155.5688622699552 -- Best loss: -1064.5531084674644\n",
      "Prev Loss: -1155.5688622699552, Loss: -1122.908975392553 -- Best loss: -1064.5531084674644\n",
      "Prev Loss: -1122.908975392553, Loss: -1088.0449719174767 -- Best loss: -1064.5531084674644\n",
      "Prev Loss: -1088.0449719174767, Loss: -1070.1914557031173 -- Best loss: -1064.5531084674644\n",
      "Prev Loss: -1070.1914557031173, Loss: -1067.709309418283 -- Best loss: -1064.5531084674644\n",
      "Prev Loss: -1067.709309418283, Loss: -1065.9655285816448 -- Best loss: -1064.5531084674644\n",
      "Prev Loss: -1065.9655285816448, Loss: -1064.458430349441 -- Best loss: -1064.5531084674644\n",
      "Prev Loss: -1064.458430349441, Loss: -1063.9369647028072 -- Best loss: -1065.9655285816448\n",
      "first e step\n",
      "first vlb computation\n",
      "Iteration starts...\n",
      "Prev Loss: -2187.8818114991323, Loss: -1154.5927280269996 -- Best loss: -1064.458430349441\n",
      "Prev Loss: -1154.5927280269996, Loss: -1126.9763451104945 -- Best loss: -1064.458430349441\n",
      "Prev Loss: -1126.9763451104945, Loss: -1116.4624756215605 -- Best loss: -1064.458430349441\n",
      "Prev Loss: -1116.4624756215605, Loss: -1111.5481694249138 -- Best loss: -1064.458430349441\n",
      "Prev Loss: -1111.5481694249138, Loss: -1107.6986978234675 -- Best loss: -1064.458430349441\n",
      "Prev Loss: -1107.6986978234675, Loss: -1103.8113356734907 -- Best loss: -1064.458430349441\n",
      "Prev Loss: -1103.8113356734907, Loss: -1099.7423084844957 -- Best loss: -1064.458430349441\n",
      "Prev Loss: -1099.7423084844957, Loss: -1095.3894647307272 -- Best loss: -1064.458430349441\n",
      "Prev Loss: -1095.3894647307272, Loss: -1090.929138156877 -- Best loss: -1064.458430349441\n",
      "Prev Loss: -1090.929138156877, Loss: -1086.6016202786054 -- Best loss: -1064.458430349441\n",
      "Prev Loss: -1086.6016202786054, Loss: -1082.3025466897784 -- Best loss: -1064.458430349441\n",
      "Prev Loss: -1082.3025466897784, Loss: -1077.9580422216727 -- Best loss: -1064.458430349441\n",
      "Prev Loss: -1077.9580422216727, Loss: -1073.7376324865504 -- Best loss: -1064.458430349441\n",
      "Prev Loss: -1073.7376324865504, Loss: -1070.0319883653444 -- Best loss: -1064.458430349441\n",
      "Prev Loss: -1070.0319883653444, Loss: -1067.255330214407 -- Best loss: -1064.458430349441\n",
      "Prev Loss: -1067.255330214407, Loss: -1065.5265405461914 -- Best loss: -1064.458430349441\n",
      "Prev Loss: -1065.5265405461914, Loss: -1064.611730603679 -- Best loss: -1064.458430349441\n",
      "first e step\n",
      "first vlb computation\n",
      "Iteration starts...\n",
      "Prev Loss: -1666.5607564573486, Loss: -1160.665604135472 -- Best loss: -1064.458430349441\n",
      "Prev Loss: -1160.665604135472, Loss: -1143.7935809062994 -- Best loss: -1064.458430349441\n",
      "Prev Loss: -1143.7935809062994, Loss: -1139.7707188120412 -- Best loss: -1064.458430349441\n",
      "Prev Loss: -1139.7707188120412, Loss: -1137.5826307817472 -- Best loss: -1064.458430349441\n",
      "Prev Loss: -1137.5826307817472, Loss: -1135.8427193392233 -- Best loss: -1064.458430349441\n",
      "Prev Loss: -1135.8427193392233, Loss: -1133.9372464243227 -- Best loss: -1064.458430349441\n",
      "Prev Loss: -1133.9372464243227, Loss: -1131.3347067815735 -- Best loss: -1064.458430349441\n",
      "Prev Loss: -1131.3347067815735, Loss: -1127.32414228099 -- Best loss: -1064.458430349441\n",
      "Prev Loss: -1127.32414228099, Loss: -1120.936632973534 -- Best loss: -1064.458430349441\n",
      "Prev Loss: -1120.936632973534, Loss: -1111.608416581383 -- Best loss: -1064.458430349441\n",
      "Prev Loss: -1111.608416581383, Loss: -1101.540053209766 -- Best loss: -1064.458430349441\n",
      "Prev Loss: -1101.540053209766, Loss: -1093.9283696190528 -- Best loss: -1064.458430349441\n",
      "Prev Loss: -1093.9283696190528, Loss: -1086.4358796742329 -- Best loss: -1064.458430349441\n",
      "Prev Loss: -1086.4358796742329, Loss: -1075.739726213282 -- Best loss: -1064.458430349441\n",
      "Prev Loss: -1075.739726213282, Loss: -1065.3065078457257 -- Best loss: -1064.458430349441\n",
      "Prev Loss: -1065.3065078457257, Loss: -1063.9011693546183 -- Best loss: -1064.458430349441\n",
      "Prev Loss: -1063.9011693546183, Loss: -1063.8349444451965 -- Best loss: -1065.3065078457257\n",
      "first e step\n",
      "first vlb computation\n",
      "Iteration starts...\n",
      "Prev Loss: -7926.643398079101, Loss: -1164.9040727390136 -- Best loss: -1063.9011693546183\n",
      "Prev Loss: -1164.9040727390136, Loss: -1136.4912396830416 -- Best loss: -1063.9011693546183\n",
      "Prev Loss: -1136.4912396830416, Loss: -1111.6999569738562 -- Best loss: -1063.9011693546183\n",
      "Prev Loss: -1111.6999569738562, Loss: -1100.793436261913 -- Best loss: -1063.9011693546183\n",
      "Prev Loss: -1100.793436261913, Loss: -1093.8126113927992 -- Best loss: -1063.9011693546183\n",
      "Prev Loss: -1093.8126113927992, Loss: -1089.522523456716 -- Best loss: -1063.9011693546183\n",
      "Prev Loss: -1089.522523456716, Loss: -1086.3840311945467 -- Best loss: -1063.9011693546183\n",
      "Prev Loss: -1086.3840311945467, Loss: -1083.797867486112 -- Best loss: -1063.9011693546183\n",
      "Prev Loss: -1083.797867486112, Loss: -1081.5605416525161 -- Best loss: -1063.9011693546183\n",
      "Prev Loss: -1081.5605416525161, Loss: -1079.5432409971254 -- Best loss: -1063.9011693546183\n",
      "Prev Loss: -1079.5432409971254, Loss: -1077.6485644156098 -- Best loss: -1063.9011693546183\n",
      "Prev Loss: -1077.6485644156098, Loss: -1075.8063775066971 -- Best loss: -1063.9011693546183\n",
      "Prev Loss: -1075.8063775066971, Loss: -1073.9741813389512 -- Best loss: -1063.9011693546183\n",
      "Prev Loss: -1073.9741813389512, Loss: -1072.1407445355303 -- Best loss: -1063.9011693546183\n",
      "Prev Loss: -1072.1407445355303, Loss: -1070.32907623777 -- Best loss: -1063.9011693546183\n",
      "Prev Loss: -1070.32907623777, Loss: -1068.6004605090236 -- Best loss: -1063.9011693546183\n",
      "Prev Loss: -1068.6004605090236, Loss: -1067.0660085500847 -- Best loss: -1063.9011693546183\n",
      "Prev Loss: -1067.0660085500847, Loss: -1065.8490380085705 -- Best loss: -1063.9011693546183\n",
      "Prev Loss: -1065.8490380085705, Loss: -1064.9960343741807 -- Best loss: -1063.9011693546183\n",
      "Current answer for task Task 4 (EM) is: -1063.9011693546183\n"
     ]
    },
    {
     "name": "stderr",
     "output_type": "stream",
     "text": [
      "/home/miguel/anaconda3/envs/bayes3/lib/python3.7/site-packages/ipykernel_launcher.py:34: RuntimeWarning: divide by zero encountered in log\n",
      "/home/miguel/anaconda3/envs/bayes3/lib/python3.7/site-packages/ipykernel_launcher.py:34: RuntimeWarning: invalid value encountered in multiply\n"
     ]
    }
   ],
   "source": [
    "best_loss, best_pi, best_mu, best_sigma = train_EM(X, 3)\n",
    "grader.submit_EM(best_loss)"
   ]
  },
  {
   "cell_type": "markdown",
   "metadata": {
    "colab_type": "text",
    "id": "tYd6tPHKBEEd"
   },
   "source": [
    "If you implemented all the steps correctly, your algorithm should converge in about 20 iterations. Let's plot the clusters to see it. We will assign a cluster label as the most probable cluster index. This can be found using a matrix $\\gamma$ computed on last E-step. "
   ]
  },
  {
   "cell_type": "code",
   "execution_count": 15,
   "metadata": {
    "colab": {
     "base_uri": "https://localhost:8080/",
     "height": 269
    },
    "colab_type": "code",
    "id": "mK_M6QLnBEEe",
    "outputId": "645ab041-ac24-4bd3-ea32-dd7bc47d2829"
   },
   "outputs": [
    {
     "data": {
      "image/png": "[encoded data removed]",
      "text/plain": [
       "<Figure size 432x288 with 1 Axes>"
      ]
     },
     "metadata": {
      "needs_background": "light"
     },
     "output_type": "display_data"
    }
   ],
   "source": [
    "gamma = E_step(X, best_pi, best_mu, best_sigma)\n",
    "labels = gamma.argmax(axis=1)\n",
    "#colors = np.array([(31, 119, 180), (255, 127, 14), (44, 160, 44)]) / 255.\n",
    "colors = cm.rainbow(np.linspace(0, 1, best_mu.shape[0]))\n",
    "plt.scatter(X[:, 0], X[:, 1], c=colors[labels], s=30)\n",
    "plt.axis('equal')\n",
    "plt.show()"
   ]
  },
  {
   "cell_type": "markdown",
   "metadata": {
    "colab_type": "text",
    "id": "h4lnjrc7BEEl"
   },
   "source": [
    "# Authorization & Submission\n",
    "To submit assignment parts to Cousera platform, please, enter your e-mail and token into variables below. You can generate a token on this programming assignment's page. <b>Note:</b> The token expires 30 minutes after generation."
   ]
  },
  {
   "cell_type": "code",
   "execution_count": 16,
   "metadata": {
    "colab": {
     "base_uri": "https://localhost:8080/",
     "height": 139
    },
    "colab_type": "code",
    "id": "5uQRl29_BEEl",
    "outputId": "ce95c87e-d6de-4509-d48d-dff4b108d9b4"
   },
   "outputs": [
    {
     "name": "stdout",
     "output_type": "stream",
     "text": [
      "You want to submit these numbers:\n",
      "Task Task 1 (E-step): 0.5337178741081265\n",
      "Task Task 2 (M-step: mu): 2.899391882050382\n",
      "Task Task 2 (M-step: sigma): 5.977105216897527\n",
      "Task Task 2 (M-step: pi): 0.5507624459218777\n",
      "Task Task 3 (VLB): -1213.9734643060183\n",
      "Task Task 4 (EM): -1063.9011693546183\n"
     ]
    }
   ],
   "source": [
    "STUDENT_EMAIL = \"\"\n",
    "STUDENT_TOKEN = \"\"\n",
    "grader.status()"
   ]
  },
  {
   "cell_type": "markdown",
   "metadata": {
    "colab_type": "text",
    "id": "sNCsqNOiBEEn"
   },
   "source": [
    "If you want to submit these answers, run cell below"
   ]
  },
  {
   "cell_type": "code",
   "execution_count": 16,
   "metadata": {
    "colab": {
     "base_uri": "https://localhost:8080/",
     "height": 34
    },
    "colab_type": "code",
    "id": "3sc9imWNBEEo",
    "outputId": "8ebc7cd7-36f0-4348-a8c5-da5f63afe9ec"
   },
   "outputs": [
    {
     "name": "stdout",
     "output_type": "stream",
     "text": [
      "Submitted to Coursera platform. See results on assignment page!\n"
     ]
    }
   ],
   "source": [
    "grader.submit(STUDENT_EMAIL, STUDENT_TOKEN)"
   ]
  },
  {
   "cell_type": "code",
   "execution_count": 0,
   "metadata": {
    "colab": {},
    "colab_type": "code",
    "id": "-YQAsx2shY2_"
   },
   "outputs": [],
   "source": []
  }
 ],
 "metadata": {
  "colab": {
   "collapsed_sections": [],
   "name": "bayesian_ml_week2_em_assignment.ipynb",
   "provenance": [],
   "version": "0.3.2"
  },
  "kernelspec": {
   "display_name": "bayes3",
   "language": "python",
   "name": "bayes3"
  },
  "language_info": {
   "codemirror_mode": {
    "name": "ipython",
    "version": 3
   },
   "file_extension": ".py",
   "mimetype": "text/x-python",
   "name": "python",
   "nbconvert_exporter": "python",
   "pygments_lexer": "ipython3",
   "version": "3.7.3"
  }
 },
 "nbformat": 4,
 "nbformat_minor": 1
}
